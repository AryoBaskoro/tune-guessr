{
 "cells": [
  {
   "cell_type": "code",
   "execution_count": 1,
   "metadata": {
    "id": "X0-MD8wSLP_d"
   },
   "outputs": [],
   "source": [
    "import os\n",
    "import random\n",
    "import librosa\n",
    "import numpy as np\n",
    "import matplotlib.pyplot as plt\n",
    "import math\n",
    "from sklearn.model_selection import train_test_split\n",
    "from sklearn.preprocessing import LabelEncoder\n",
    "from sklearn.metrics import classification_report\n",
    "from tensorflow import keras\n",
    "from keras import layers, models\n",
    "from keras.callbacks import ReduceLROnPlateau, EarlyStopping\n",
    "from collections import Counter\n",
    "import keras\n",
    "from keras import models\n",
    "from keras import layers\n",
    "import visualkeras \n",
    "from PIL import ImageFont\n",
    "from PIL import ImageDraw\n",
    "import pydub\n",
    "from pydub import AudioSegment\n",
    "from pydub.utils import which\n",
    "AudioSegment.converter = which(\"ffmpeg\")\n",
    "AudioSegment.ffprobe = which(\"ffprobe\")"
   ]
  },
  {
   "cell_type": "code",
   "execution_count": null,
   "metadata": {},
   "outputs": [
    {
     "name": "stdout",
     "output_type": "stream",
     "text": [
      "['Ardhito Pramono_Dancing In September.mp3', 'Ed Sheeran_Supermarket Flowers.mp3', 'GANGGA_Whiskey Bottle.mp3', 'Giveon_Heartbreak Anniversary.mp3', 'Gracie Abrams_That’s So True.mp3', 'Keshi_UNDERSTAND.mp3', 'Labrinth_Jealous.mp3', 'Lady Gaga_Die With A Smile.mp3', 'Lauv_First Heartbreak.mp3', 'Lukas Graham_Love Someone.mp3', 'Rich Brian_100 Degrees.mp3', 'Ricky Montgomery_This December.mp3']\n",
      "['Ardhito Pramono_Dancing In September', 'Ed Sheeran_Supermarket Flowers', 'GANGGA_Whiskey Bottle', 'Giveon_Heartbreak Anniversary', 'Gracie Abrams_That’s So True', 'Keshi_UNDERSTAND', 'Labrinth_Jealous', 'Lady Gaga_Die With A Smile', 'Lauv_First Heartbreak', 'Lukas Graham_Love Someone', 'Rich Brian_100 Degrees', 'Ricky Montgomery_This December']\n"
     ]
    }
   ],
   "source": [
    "src_dir = '../dataset/'\n",
    "dst_dir = '../dataset_wav'\n",
    "print(os.listdir(src_dir))\n",
    "# print(os.listdir(dst_dir))"
   ]
  },
  {
   "cell_type": "code",
   "execution_count": null,
   "metadata": {},
   "outputs": [],
   "source": [
    "SAMPLE_RATE = 22050\n",
    "N_MELS = 128\n",
    "N_FFT = 2048\n",
    "HOP_LENGTH = 512\n",
    "NUM_SEGMENTS = 10\n",
    "file_list = []"
   ]
  },
  {
   "cell_type": "code",
   "execution_count": null,
   "metadata": {},
   "outputs": [
    {
     "name": "stdout",
     "output_type": "stream",
     "text": [
      "../dataset_wav already exists, skipping conversion.\n",
      "Segments already exist for Ardhito Pramono_Dancing In September.wav, skipping...\n",
      "Segments already exist for Ed Sheeran_Supermarket Flowers.wav, skipping...\n",
      "Segments already exist for GANGGA_Whiskey Bottle.wav, skipping...\n",
      "Segments already exist for Giveon_Heartbreak Anniversary.wav, skipping...\n",
      "Segments already exist for Gracie Abrams_That’s So True.wav, skipping...\n",
      "Segments already exist for Keshi_UNDERSTAND.wav, skipping...\n",
      "Segments already exist for Labrinth_Jealous.wav, skipping...\n",
      "Segments already exist for Lady Gaga_Die With A Smile.wav, skipping...\n",
      "Segments already exist for Lauv_First Heartbreak.wav, skipping...\n",
      "Segments already exist for Lukas Graham_Love Someone.wav, skipping...\n",
      "Segments already exist for Rich Brian_100 Degrees.wav, skipping...\n",
      "Segments already exist for Ricky Montgomery_This December.wav, skipping...\n"
     ]
    }
   ],
   "source": [
    "def convert_mp3_to_wav(src_dir, dst_dir):\n",
    "    if not os.path.exists(dst_dir):\n",
    "        os.makedirs(dst_dir)\n",
    "        labels = set()\n",
    "\n",
    "        for file_name in os.listdir(src_dir):\n",
    "            if file_name.endswith('.mp3'):\n",
    "                sub_dir = os.path.join(dst_dir, file_name.replace('.mp3', ''))\n",
    "                if not os.path.exists(sub_dir):\n",
    "                    os.makedirs(sub_dir)\n",
    "\n",
    "                mp3_path = os.path.join(src_dir, file_name)\n",
    "                wav_path = os.path.join(sub_dir, file_name.replace('.mp3', '.wav'))\n",
    "\n",
    "                try:\n",
    "                    audio = AudioSegment.from_mp3(mp3_path)\n",
    "                    audio.export(wav_path, format='wav')\n",
    "                    # print(f\"Converted {mp3_path} to {wav_path}\")\n",
    "                    file_list.append(wav_path)\n",
    "                    \n",
    "                    if \"_\" in file_name:\n",
    "                        artist, song = file_name.replace('.mp3', '').split(\"_\", 1)\n",
    "                        label = f\"{artist} - {song}\"\n",
    "                        labels.add(label)  \n",
    "                except Exception as e:\n",
    "                    print(f\"Failed to convert {mp3_path}: {e}\")\n",
    "\n",
    "        with open('labels.txt', 'w') as f:\n",
    "            for label in labels: \n",
    "                f.write(label + \"\\n\")\n",
    "    else:\n",
    "        print(f\"{dst_dir} already exists, skipping...\")   \n",
    "\n",
    "def crop_wav(wav_dir, segment_duration=5000, num_segments_per_file=NUM_SEGMENTS):\n",
    "    for root, _, files in os.walk(wav_dir):\n",
    "        for file_name in files:\n",
    "            if file_name.endswith('.wav') and '_segment_' not in file_name:  \n",
    "                wav_path = os.path.join(root, file_name)\n",
    "                \n",
    "                base_name = file_name.replace('.wav', '')\n",
    "                segments_exist = any(f.startswith(f\"{base_name}_segment_\") and f.endswith('.wav') \n",
    "                                   for f in files)\n",
    "                \n",
    "                if segments_exist:\n",
    "                    print(f\"Segments already exist for {file_name}, skipping...\")\n",
    "                    continue\n",
    "                \n",
    "                try:\n",
    "                    audio = AudioSegment.from_wav(wav_path)\n",
    "                    audio_length = len(audio)\n",
    "\n",
    "                    if audio_length < segment_duration:\n",
    "                        print(f\"Audio {file_name} is too short ({audio_length}ms) for {segment_duration}ms segments\")\n",
    "                        continue\n",
    "\n",
    "                    for i in range(num_segments_per_file):\n",
    "                        start = random.randint(0, audio_length - segment_duration)\n",
    "                        end = start + segment_duration\n",
    "                        segment = audio[start:end]\n",
    "\n",
    "                        segment_file_name = f\"{base_name}_segment_{i}.wav\"\n",
    "                        segment_path = os.path.join(root, segment_file_name)\n",
    "                        segment.export(segment_path, format='wav')\n",
    "                        print(f\"Created segment: {segment_file_name}\")\n",
    "                        \n",
    "                except Exception as e:\n",
    "                    print(f\"Failed to crop {wav_path}: {e}\")\n",
    "\n",
    "convert_mp3_to_wav(src_dir, dst_dir)\n",
    "crop_wav(dst_dir)"
   ]
  },
  {
   "cell_type": "code",
   "execution_count": null,
   "metadata": {
    "colab": {
     "base_uri": "https://localhost:8080/"
    },
    "id": "6X8CjgD3i4-n",
    "outputId": "e655b295-8f07-440b-db44-0b3cc41aa86e"
   },
   "outputs": [],
   "source": [
    "import random\n",
    "def augment_audio(signal, sr):\n",
    "\n",
    "    rate = random.uniform(0.8, 1.2)\n",
    "    stretched_signal = librosa.effects.time_stretch(signal, rate=rate)\n",
    "\n",
    "    steps = random.randint(-5, 5)\n",
    "    shifted_signal = librosa.effects.pitch_shift(signal, sr=sr,n_steps=steps)\n",
    "\n",
    "    noise_factor = 0.005\n",
    "    noise = np.random.randn(len(signal))\n",
    "    noisy_signal = signal + noise_factor * noise\n",
    "\n",
    "    return [stretched_signal, shifted_signal, noisy_signal]\n"
   ]
  },
  {
   "cell_type": "code",
   "execution_count": 7,
   "metadata": {
    "id": "ZzF7eDN1lXfv"
   },
   "outputs": [],
   "source": [
    "def extract_spectrogram(signal, sr=SAMPLE_RATE):\n",
    "    mel_spec = librosa.feature.melspectrogram(y=signal, sr=sr, n_fft=N_FFT, hop_length=HOP_LENGTH, n_mels=N_MELS)\n",
    "    log_spec = librosa.power_to_db(mel_spec)\n",
    "    return log_spec"
   ]
  },
  {
   "cell_type": "code",
   "execution_count": null,
   "metadata": {},
   "outputs": [],
   "source": [
    "def load_dataset(dataset_path, segment_duration=5):\n",
    "    features = []\n",
    "    labels = []\n",
    "    num_samples = int(SAMPLE_RATE * segment_duration)\n",
    "\n",
    "    for dirpath, dirnames, filenames in os.walk(dataset_path):\n",
    "        if dirpath != dataset_path:\n",
    "            label = os.path.basename(dirpath)\n",
    "            print(f\"Processing: {label}\")\n",
    "\n",
    "            for file_name in filenames:\n",
    "                if file_name.endswith(\".wav\"):\n",
    "                    file_path = os.path.join(dirpath, file_name)\n",
    "                    try:\n",
    "                        signal, sr = librosa.load(file_path, sr=SAMPLE_RATE)\n",
    "\n",
    "                        for s in range(NUM_SEGMENTS):\n",
    "                            start = num_samples * s\n",
    "                            end = start + num_samples\n",
    "\n",
    "                            if end <= len(signal):\n",
    "                                segment = signal[start:end]\n",
    "                                log_spec = extract_spectrogram(segment)\n",
    "                                if log_spec is not None:\n",
    "                                    features.append(log_spec)\n",
    "                                    labels.append(label)\n",
    "\n",
    "                        augmented_signals = augment_audio(signal, sr)\n",
    "                        for aug in augmented_signals:\n",
    "                            for s in range(NUM_SEGMENTS):\n",
    "                                start = num_samples * s\n",
    "                                end = start + num_samples\n",
    "                                if end <= len(aug):\n",
    "                                    segment = aug[start:end]\n",
    "                                    log_spec = extract_spectrogram(segment)\n",
    "                                    if log_spec is not None:\n",
    "                                        features.append(log_spec)\n",
    "                                        labels.append(label)\n",
    "\n",
    "                    except Exception as e:\n",
    "                        print(f\"Error loading {file_path}: {e}\")\n",
    "\n",
    "    max_len = max(spec.shape[1] for spec in features)\n",
    "    padded_features = [np.pad(spec, ((0, 0), (0, max_len - spec.shape[1])), mode='constant') for spec in features]\n",
    "\n",
    "    return np.array(padded_features), np.array(labels)\n"
   ]
  },
  {
   "cell_type": "code",
   "execution_count": 9,
   "metadata": {},
   "outputs": [
    {
     "name": "stdout",
     "output_type": "stream",
     "text": [
      "Processing: Ardhito Pramono_Dancing In September\n",
      "Processing: Ed Sheeran_Supermarket Flowers\n",
      "Processing: GANGGA_Whiskey Bottle\n",
      "Processing: Giveon_Heartbreak Anniversary\n",
      "Processing: Gracie Abrams_That’s So True\n",
      "Processing: Keshi_UNDERSTAND\n",
      "Processing: Labrinth_Jealous\n",
      "Processing: Lady Gaga_Die With A Smile\n",
      "Processing: Lauv_First Heartbreak\n",
      "Processing: Lukas Graham_Love Someone\n",
      "Processing: Rich Brian_100 Degrees\n",
      "Processing: Ricky Montgomery_This December\n"
     ]
    }
   ],
   "source": [
    "DATASET_PATH = \"../dataset_wav\"\n",
    "\n",
    "X, y = load_dataset(DATASET_PATH)\n",
    "label_encoder = LabelEncoder()\n",
    "y = label_encoder.fit_transform(y)\n",
    "X = X[..., np.newaxis]"
   ]
  },
  {
   "cell_type": "code",
   "execution_count": 10,
   "metadata": {},
   "outputs": [],
   "source": [
    "x_train, x_temp, y_train, y_temp = train_test_split(X, y, test_size=0.4, random_state=42, shuffle=True)\n",
    "x_val, x_test, y_val, y_test = train_test_split(x_temp, y_temp, test_size=0.5, random_state=42, shuffle=True)"
   ]
  },
  {
   "cell_type": "code",
   "execution_count": null,
   "metadata": {},
   "outputs": [],
   "source": [
    "input_shape = X.shape[1:] \n",
    "model = models.Sequential([\n",
    "    layers.Input(shape=input_shape),\n",
    "    layers.Conv2D(24, (5, 5), activation=\"relu\"),\n",
    "    layers.MaxPooling2D((4, 4), strides=(2, 2), padding=\"same\"),\n",
    "    layers.BatchNormalization(),\n",
    "\n",
    "    layers.Conv2D(48, (5, 5), activation=\"relu\"),\n",
    "    layers.MaxPooling2D((4, 4), strides=(2, 2), padding=\"same\"),\n",
    "    layers.BatchNormalization(),\n",
    "\n",
    "    layers.Conv2D(48, (5, 5), activation=\"relu\", padding=\"same\"),\n",
    "    layers.MaxPooling2D((4, 4), strides=(2, 2), padding=\"same\"),\n",
    "    layers.BatchNormalization(),\n",
    "\n",
    "    layers.Flatten(),\n",
    "    layers.Dense(64, activation=\"relu\"),\n",
    "    layers.Dropout(0.3),\n",
    "    layers.Dense(len(label_encoder.classes_), activation=\"softmax\")\n",
    "])"
   ]
  },
  {
   "cell_type": "code",
   "execution_count": null,
   "metadata": {},
   "outputs": [
    {
     "name": "stdout",
     "output_type": "stream",
     "text": [
      "Epoch 1/50\n",
      "\u001b[1m17/17\u001b[0m \u001b[32m━━━━━━━━━━━━━━━━━━━━\u001b[0m\u001b[37m\u001b[0m \u001b[1m6s\u001b[0m 201ms/step - accuracy: 0.2280 - loss: 2.5104 - val_accuracy: 0.1056 - val_loss: 7.0130 - learning_rate: 1.0000e-04\n",
      "Epoch 2/50\n",
      "\u001b[1m17/17\u001b[0m \u001b[32m━━━━━━━━━━━━━━━━━━━━\u001b[0m\u001b[37m\u001b[0m \u001b[1m3s\u001b[0m 179ms/step - accuracy: 0.4982 - loss: 1.4991 - val_accuracy: 0.1500 - val_loss: 5.2605 - learning_rate: 1.0000e-04\n",
      "Epoch 3/50\n",
      "\u001b[1m17/17\u001b[0m \u001b[32m━━━━━━━━━━━━━━━━━━━━\u001b[0m\u001b[37m\u001b[0m \u001b[1m3s\u001b[0m 177ms/step - accuracy: 0.7153 - loss: 0.8988 - val_accuracy: 0.1611 - val_loss: 4.0181 - learning_rate: 1.0000e-04\n",
      "Epoch 4/50\n",
      "\u001b[1m17/17\u001b[0m \u001b[32m━━━━━━━━━━━━━━━━━━━━\u001b[0m\u001b[37m\u001b[0m \u001b[1m3s\u001b[0m 173ms/step - accuracy: 0.8488 - loss: 0.5339 - val_accuracy: 0.1944 - val_loss: 3.2481 - learning_rate: 1.0000e-04\n",
      "Epoch 5/50\n",
      "\u001b[1m17/17\u001b[0m \u001b[32m━━━━━━━━━━━━━━━━━━━━\u001b[0m\u001b[37m\u001b[0m \u001b[1m3s\u001b[0m 175ms/step - accuracy: 0.8743 - loss: 0.4078 - val_accuracy: 0.2444 - val_loss: 2.4087 - learning_rate: 1.0000e-04\n",
      "Epoch 6/50\n",
      "\u001b[1m17/17\u001b[0m \u001b[32m━━━━━━━━━━━━━━━━━━━━\u001b[0m\u001b[37m\u001b[0m \u001b[1m3s\u001b[0m 179ms/step - accuracy: 0.9267 - loss: 0.2749 - val_accuracy: 0.4111 - val_loss: 1.7891 - learning_rate: 1.0000e-04\n",
      "Epoch 7/50\n",
      "\u001b[1m17/17\u001b[0m \u001b[32m━━━━━━━━━━━━━━━━━━━━\u001b[0m\u001b[37m\u001b[0m \u001b[1m3s\u001b[0m 183ms/step - accuracy: 0.9687 - loss: 0.1866 - val_accuracy: 0.6000 - val_loss: 1.2591 - learning_rate: 1.0000e-04\n",
      "Epoch 8/50\n",
      "\u001b[1m17/17\u001b[0m \u001b[32m━━━━━━━━━━━━━━━━━━━━\u001b[0m\u001b[37m\u001b[0m \u001b[1m3s\u001b[0m 186ms/step - accuracy: 0.9551 - loss: 0.1584 - val_accuracy: 0.6833 - val_loss: 1.0455 - learning_rate: 1.0000e-04\n",
      "Epoch 9/50\n",
      "\u001b[1m17/17\u001b[0m \u001b[32m━━━━━━━━━━━━━━━━━━━━\u001b[0m\u001b[37m\u001b[0m \u001b[1m3s\u001b[0m 185ms/step - accuracy: 0.9751 - loss: 0.1027 - val_accuracy: 0.8056 - val_loss: 0.7464 - learning_rate: 1.0000e-04\n",
      "Epoch 10/50\n",
      "\u001b[1m17/17\u001b[0m \u001b[32m━━━━━━━━━━━━━━━━━━━━\u001b[0m\u001b[37m\u001b[0m \u001b[1m3s\u001b[0m 181ms/step - accuracy: 0.9867 - loss: 0.1093 - val_accuracy: 0.8944 - val_loss: 0.5389 - learning_rate: 1.0000e-04\n",
      "Epoch 11/50\n",
      "\u001b[1m17/17\u001b[0m \u001b[32m━━━━━━━━━━━━━━━━━━━━\u001b[0m\u001b[37m\u001b[0m \u001b[1m3s\u001b[0m 180ms/step - accuracy: 0.9839 - loss: 0.0890 - val_accuracy: 0.9167 - val_loss: 0.4457 - learning_rate: 1.0000e-04\n",
      "Epoch 12/50\n",
      "\u001b[1m17/17\u001b[0m \u001b[32m━━━━━━━━━━━━━━━━━━━━\u001b[0m\u001b[37m\u001b[0m \u001b[1m3s\u001b[0m 184ms/step - accuracy: 0.9845 - loss: 0.0673 - val_accuracy: 0.9111 - val_loss: 0.4151 - learning_rate: 1.0000e-04\n",
      "Epoch 13/50\n",
      "\u001b[1m17/17\u001b[0m \u001b[32m━━━━━━━━━━━━━━━━━━━━\u001b[0m\u001b[37m\u001b[0m \u001b[1m3s\u001b[0m 183ms/step - accuracy: 0.9806 - loss: 0.0764 - val_accuracy: 0.9167 - val_loss: 0.3530 - learning_rate: 1.0000e-04\n",
      "Epoch 14/50\n",
      "\u001b[1m17/17\u001b[0m \u001b[32m━━━━━━━━━━━━━━━━━━━━\u001b[0m\u001b[37m\u001b[0m \u001b[1m3s\u001b[0m 180ms/step - accuracy: 0.9811 - loss: 0.0791 - val_accuracy: 0.9278 - val_loss: 0.3086 - learning_rate: 1.0000e-04\n",
      "Epoch 15/50\n",
      "\u001b[1m17/17\u001b[0m \u001b[32m━━━━━━━━━━━━━━━━━━━━\u001b[0m\u001b[37m\u001b[0m \u001b[1m3s\u001b[0m 182ms/step - accuracy: 0.9976 - loss: 0.0359 - val_accuracy: 0.9389 - val_loss: 0.2805 - learning_rate: 1.0000e-04\n",
      "Epoch 16/50\n",
      "\u001b[1m17/17\u001b[0m \u001b[32m━━━━━━━━━━━━━━━━━━━━\u001b[0m\u001b[37m\u001b[0m \u001b[1m3s\u001b[0m 177ms/step - accuracy: 0.9936 - loss: 0.0426 - val_accuracy: 0.9389 - val_loss: 0.2814 - learning_rate: 1.0000e-04\n",
      "Epoch 17/50\n",
      "\u001b[1m17/17\u001b[0m \u001b[32m━━━━━━━━━━━━━━━━━━━━\u001b[0m\u001b[37m\u001b[0m \u001b[1m3s\u001b[0m 174ms/step - accuracy: 0.9937 - loss: 0.0425 - val_accuracy: 0.9389 - val_loss: 0.2957 - learning_rate: 1.0000e-04\n",
      "Epoch 18/50\n",
      "\u001b[1m17/17\u001b[0m \u001b[32m━━━━━━━━━━━━━━━━━━━━\u001b[0m\u001b[37m\u001b[0m \u001b[1m3s\u001b[0m 173ms/step - accuracy: 0.9990 - loss: 0.0265 - val_accuracy: 0.9222 - val_loss: 0.3209 - learning_rate: 1.0000e-04\n",
      "Epoch 19/50\n",
      "\u001b[1m17/17\u001b[0m \u001b[32m━━━━━━━━━━━━━━━━━━━━\u001b[0m\u001b[37m\u001b[0m \u001b[1m3s\u001b[0m 176ms/step - accuracy: 0.9831 - loss: 0.0446 - val_accuracy: 0.9222 - val_loss: 0.3015 - learning_rate: 1.0000e-04\n",
      "Epoch 20/50\n",
      "\u001b[1m17/17\u001b[0m \u001b[32m━━━━━━━━━━━━━━━━━━━━\u001b[0m\u001b[37m\u001b[0m \u001b[1m3s\u001b[0m 174ms/step - accuracy: 0.9997 - loss: 0.0223 - val_accuracy: 0.9222 - val_loss: 0.3293 - learning_rate: 1.0000e-04\n",
      "Epoch 21/50\n",
      "\u001b[1m17/17\u001b[0m \u001b[32m━━━━━━━━━━━━━━━━━━━━\u001b[0m\u001b[37m\u001b[0m \u001b[1m3s\u001b[0m 172ms/step - accuracy: 0.9933 - loss: 0.0302 - val_accuracy: 0.9167 - val_loss: 0.3321 - learning_rate: 1.0000e-04\n",
      "Epoch 22/50\n",
      "\u001b[1m17/17\u001b[0m \u001b[32m━━━━━━━━━━━━━━━━━━━━\u001b[0m\u001b[37m\u001b[0m \u001b[1m3s\u001b[0m 173ms/step - accuracy: 0.9958 - loss: 0.0269 - val_accuracy: 0.9333 - val_loss: 0.3076 - learning_rate: 1.0000e-04\n",
      "Epoch 23/50\n",
      "\u001b[1m17/17\u001b[0m \u001b[32m━━━━━━━━━━━━━━━━━━━━\u001b[0m\u001b[37m\u001b[0m \u001b[1m3s\u001b[0m 182ms/step - accuracy: 0.9924 - loss: 0.0322 - val_accuracy: 0.9278 - val_loss: 0.3260 - learning_rate: 1.0000e-04\n",
      "Epoch 24/50\n",
      "\u001b[1m17/17\u001b[0m \u001b[32m━━━━━━━━━━━━━━━━━━━━\u001b[0m\u001b[37m\u001b[0m \u001b[1m3s\u001b[0m 181ms/step - accuracy: 0.9985 - loss: 0.0271 - val_accuracy: 0.9444 - val_loss: 0.2546 - learning_rate: 1.0000e-04\n",
      "Epoch 25/50\n",
      "\u001b[1m17/17\u001b[0m \u001b[32m━━━━━━━━━━━━━━━━━━━━\u001b[0m\u001b[37m\u001b[0m \u001b[1m3s\u001b[0m 179ms/step - accuracy: 0.9959 - loss: 0.0154 - val_accuracy: 0.9278 - val_loss: 0.3041 - learning_rate: 1.0000e-04\n",
      "Epoch 26/50\n",
      "\u001b[1m17/17\u001b[0m \u001b[32m━━━━━━━━━━━━━━━━━━━━\u001b[0m\u001b[37m\u001b[0m \u001b[1m3s\u001b[0m 178ms/step - accuracy: 0.9969 - loss: 0.0271 - val_accuracy: 0.9222 - val_loss: 0.3469 - learning_rate: 1.0000e-04\n",
      "Epoch 27/50\n",
      "\u001b[1m17/17\u001b[0m \u001b[32m━━━━━━━━━━━━━━━━━━━━\u001b[0m\u001b[37m\u001b[0m \u001b[1m3s\u001b[0m 180ms/step - accuracy: 0.9934 - loss: 0.0194 - val_accuracy: 0.9222 - val_loss: 0.3560 - learning_rate: 1.0000e-04\n",
      "Epoch 28/50\n",
      "\u001b[1m17/17\u001b[0m \u001b[32m━━━━━━━━━━━━━━━━━━━━\u001b[0m\u001b[37m\u001b[0m \u001b[1m3s\u001b[0m 180ms/step - accuracy: 1.0000 - loss: 0.0192 - val_accuracy: 0.9333 - val_loss: 0.3255 - learning_rate: 1.0000e-04\n",
      "Epoch 29/50\n",
      "\u001b[1m17/17\u001b[0m \u001b[32m━━━━━━━━━━━━━━━━━━━━\u001b[0m\u001b[37m\u001b[0m \u001b[1m3s\u001b[0m 178ms/step - accuracy: 1.0000 - loss: 0.0122 - val_accuracy: 0.9222 - val_loss: 0.3214 - learning_rate: 1.0000e-04\n",
      "Epoch 30/50\n",
      "\u001b[1m17/17\u001b[0m \u001b[32m━━━━━━━━━━━━━━━━━━━━\u001b[0m\u001b[37m\u001b[0m \u001b[1m3s\u001b[0m 180ms/step - accuracy: 0.9980 - loss: 0.0108 - val_accuracy: 0.9278 - val_loss: 0.3497 - learning_rate: 1.0000e-04\n",
      "Epoch 31/50\n",
      "\u001b[1m17/17\u001b[0m \u001b[32m━━━━━━━━━━━━━━━━━━━━\u001b[0m\u001b[37m\u001b[0m \u001b[1m3s\u001b[0m 177ms/step - accuracy: 0.9939 - loss: 0.0192 - val_accuracy: 0.9278 - val_loss: 0.3293 - learning_rate: 1.0000e-04\n",
      "Epoch 32/50\n",
      "\u001b[1m17/17\u001b[0m \u001b[32m━━━━━━━━━━━━━━━━━━━━\u001b[0m\u001b[37m\u001b[0m \u001b[1m3s\u001b[0m 181ms/step - accuracy: 0.9929 - loss: 0.0251 - val_accuracy: 0.9278 - val_loss: 0.3051 - learning_rate: 1.0000e-04\n",
      "Epoch 33/50\n",
      "\u001b[1m17/17\u001b[0m \u001b[32m━━━━━━━━━━━━━━━━━━━━\u001b[0m\u001b[37m\u001b[0m \u001b[1m3s\u001b[0m 204ms/step - accuracy: 0.9996 - loss: 0.0094 - val_accuracy: 0.9278 - val_loss: 0.3277 - learning_rate: 1.0000e-04\n",
      "Epoch 34/50\n",
      "\u001b[1m17/17\u001b[0m \u001b[32m━━━━━━━━━━━━━━━━━━━━\u001b[0m\u001b[37m\u001b[0m \u001b[1m0s\u001b[0m 176ms/step - accuracy: 1.0000 - loss: 0.0129\n",
      "Epoch 34: ReduceLROnPlateau reducing learning rate to 1e-05.\n",
      "\u001b[1m17/17\u001b[0m \u001b[32m━━━━━━━━━━━━━━━━━━━━\u001b[0m\u001b[37m\u001b[0m \u001b[1m3s\u001b[0m 193ms/step - accuracy: 1.0000 - loss: 0.0130 - val_accuracy: 0.9278 - val_loss: 0.3192 - learning_rate: 1.0000e-04\n",
      "Epoch 35/50\n",
      "\u001b[1m17/17\u001b[0m \u001b[32m━━━━━━━━━━━━━━━━━━━━\u001b[0m\u001b[37m\u001b[0m \u001b[1m3s\u001b[0m 194ms/step - accuracy: 0.9996 - loss: 0.0099 - val_accuracy: 0.9278 - val_loss: 0.3184 - learning_rate: 1.0000e-05\n",
      "Epoch 36/50\n",
      "\u001b[1m17/17\u001b[0m \u001b[32m━━━━━━━━━━━━━━━━━━━━\u001b[0m\u001b[37m\u001b[0m \u001b[1m3s\u001b[0m 202ms/step - accuracy: 1.0000 - loss: 0.0097 - val_accuracy: 0.9278 - val_loss: 0.3151 - learning_rate: 1.0000e-05\n",
      "Epoch 37/50\n",
      "\u001b[1m17/17\u001b[0m \u001b[32m━━━━━━━━━━━━━━━━━━━━\u001b[0m\u001b[37m\u001b[0m \u001b[1m3s\u001b[0m 188ms/step - accuracy: 0.9982 - loss: 0.0086 - val_accuracy: 0.9278 - val_loss: 0.3116 - learning_rate: 1.0000e-05\n",
      "Epoch 38/50\n",
      "\u001b[1m17/17\u001b[0m \u001b[32m━━━━━━━━━━━━━━━━━━━━\u001b[0m\u001b[37m\u001b[0m \u001b[1m3s\u001b[0m 178ms/step - accuracy: 0.9934 - loss: 0.0116 - val_accuracy: 0.9278 - val_loss: 0.3100 - learning_rate: 1.0000e-05\n",
      "Epoch 39/50\n",
      "\u001b[1m17/17\u001b[0m \u001b[32m━━━━━━━━━━━━━━━━━━━━\u001b[0m\u001b[37m\u001b[0m \u001b[1m3s\u001b[0m 184ms/step - accuracy: 0.9990 - loss: 0.0112 - val_accuracy: 0.9333 - val_loss: 0.3007 - learning_rate: 1.0000e-05\n",
      "Epoch 40/50\n",
      "\u001b[1m17/17\u001b[0m \u001b[32m━━━━━━━━━━━━━━━━━━━━\u001b[0m\u001b[37m\u001b[0m \u001b[1m3s\u001b[0m 178ms/step - accuracy: 0.9994 - loss: 0.0116 - val_accuracy: 0.9333 - val_loss: 0.2833 - learning_rate: 1.0000e-05\n",
      "Epoch 41/50\n",
      "\u001b[1m17/17\u001b[0m \u001b[32m━━━━━━━━━━━━━━━━━━━━\u001b[0m\u001b[37m\u001b[0m \u001b[1m3s\u001b[0m 177ms/step - accuracy: 0.9957 - loss: 0.0161 - val_accuracy: 0.9389 - val_loss: 0.2806 - learning_rate: 1.0000e-05\n",
      "Epoch 42/50\n",
      "\u001b[1m17/17\u001b[0m \u001b[32m━━━━━━━━━━━━━━━━━━━━\u001b[0m\u001b[37m\u001b[0m \u001b[1m3s\u001b[0m 173ms/step - accuracy: 1.0000 - loss: 0.0065 - val_accuracy: 0.9333 - val_loss: 0.2842 - learning_rate: 1.0000e-05\n",
      "Epoch 43/50\n",
      "\u001b[1m17/17\u001b[0m \u001b[32m━━━━━━━━━━━━━━━━━━━━\u001b[0m\u001b[37m\u001b[0m \u001b[1m3s\u001b[0m 182ms/step - accuracy: 1.0000 - loss: 0.0099 - val_accuracy: 0.9278 - val_loss: 0.2871 - learning_rate: 1.0000e-05\n",
      "Epoch 44/50\n",
      "\u001b[1m17/17\u001b[0m \u001b[32m━━━━━━━━━━━━━━━━━━━━\u001b[0m\u001b[37m\u001b[0m \u001b[1m3s\u001b[0m 186ms/step - accuracy: 0.9984 - loss: 0.0081 - val_accuracy: 0.9278 - val_loss: 0.2866 - learning_rate: 1.0000e-05\n",
      "Epoch 44: early stopping\n"
     ]
    },
    {
     "name": "stderr",
     "output_type": "stream",
     "text": [
      "c:\\Users\\Aryo Baskoro\\anaconda3\\Lib\\site-packages\\visualkeras\\layered.py:86: UserWarning: The legend_text_spacing_offset parameter is deprecated and will be removed in a future release.\n",
      "  warnings.warn(\"The legend_text_spacing_offset parameter is deprecated and will be removed in a future release.\")\n"
     ]
    },
    {
     "data": {
      "text/html": [
       "<pre style=\"white-space:pre;overflow-x:auto;line-height:normal;font-family:Menlo,'DejaVu Sans Mono',consolas,'Courier New',monospace\"><span style=\"font-weight: bold\">Model: \"sequential\"</span>\n",
       "</pre>\n"
      ],
      "text/plain": [
       "\u001b[1mModel: \"sequential\"\u001b[0m\n"
      ]
     },
     "metadata": {},
     "output_type": "display_data"
    },
    {
     "data": {
      "text/html": [
       "<pre style=\"white-space:pre;overflow-x:auto;line-height:normal;font-family:Menlo,'DejaVu Sans Mono',consolas,'Courier New',monospace\">┏━━━━━━━━━━━━━━━━━━━━━━━━━━━━━━━━━┳━━━━━━━━━━━━━━━━━━━━━━━━┳━━━━━━━━━━━━━━━┓\n",
       "┃<span style=\"font-weight: bold\"> Layer (type)                    </span>┃<span style=\"font-weight: bold\"> Output Shape           </span>┃<span style=\"font-weight: bold\">       Param # </span>┃\n",
       "┡━━━━━━━━━━━━━━━━━━━━━━━━━━━━━━━━━╇━━━━━━━━━━━━━━━━━━━━━━━━╇━━━━━━━━━━━━━━━┩\n",
       "│ conv2d (<span style=\"color: #0087ff; text-decoration-color: #0087ff\">Conv2D</span>)                 │ (<span style=\"color: #00d7ff; text-decoration-color: #00d7ff\">None</span>, <span style=\"color: #00af00; text-decoration-color: #00af00\">124</span>, <span style=\"color: #00af00; text-decoration-color: #00af00\">212</span>, <span style=\"color: #00af00; text-decoration-color: #00af00\">24</span>)   │           <span style=\"color: #00af00; text-decoration-color: #00af00\">624</span> │\n",
       "├─────────────────────────────────┼────────────────────────┼───────────────┤\n",
       "│ max_pooling2d (<span style=\"color: #0087ff; text-decoration-color: #0087ff\">MaxPooling2D</span>)    │ (<span style=\"color: #00d7ff; text-decoration-color: #00d7ff\">None</span>, <span style=\"color: #00af00; text-decoration-color: #00af00\">62</span>, <span style=\"color: #00af00; text-decoration-color: #00af00\">106</span>, <span style=\"color: #00af00; text-decoration-color: #00af00\">24</span>)    │             <span style=\"color: #00af00; text-decoration-color: #00af00\">0</span> │\n",
       "├─────────────────────────────────┼────────────────────────┼───────────────┤\n",
       "│ batch_normalization             │ (<span style=\"color: #00d7ff; text-decoration-color: #00d7ff\">None</span>, <span style=\"color: #00af00; text-decoration-color: #00af00\">62</span>, <span style=\"color: #00af00; text-decoration-color: #00af00\">106</span>, <span style=\"color: #00af00; text-decoration-color: #00af00\">24</span>)    │            <span style=\"color: #00af00; text-decoration-color: #00af00\">96</span> │\n",
       "│ (<span style=\"color: #0087ff; text-decoration-color: #0087ff\">BatchNormalization</span>)            │                        │               │\n",
       "├─────────────────────────────────┼────────────────────────┼───────────────┤\n",
       "│ conv2d_1 (<span style=\"color: #0087ff; text-decoration-color: #0087ff\">Conv2D</span>)               │ (<span style=\"color: #00d7ff; text-decoration-color: #00d7ff\">None</span>, <span style=\"color: #00af00; text-decoration-color: #00af00\">58</span>, <span style=\"color: #00af00; text-decoration-color: #00af00\">102</span>, <span style=\"color: #00af00; text-decoration-color: #00af00\">48</span>)    │        <span style=\"color: #00af00; text-decoration-color: #00af00\">28,848</span> │\n",
       "├─────────────────────────────────┼────────────────────────┼───────────────┤\n",
       "│ max_pooling2d_1 (<span style=\"color: #0087ff; text-decoration-color: #0087ff\">MaxPooling2D</span>)  │ (<span style=\"color: #00d7ff; text-decoration-color: #00d7ff\">None</span>, <span style=\"color: #00af00; text-decoration-color: #00af00\">29</span>, <span style=\"color: #00af00; text-decoration-color: #00af00\">51</span>, <span style=\"color: #00af00; text-decoration-color: #00af00\">48</span>)     │             <span style=\"color: #00af00; text-decoration-color: #00af00\">0</span> │\n",
       "├─────────────────────────────────┼────────────────────────┼───────────────┤\n",
       "│ batch_normalization_1           │ (<span style=\"color: #00d7ff; text-decoration-color: #00d7ff\">None</span>, <span style=\"color: #00af00; text-decoration-color: #00af00\">29</span>, <span style=\"color: #00af00; text-decoration-color: #00af00\">51</span>, <span style=\"color: #00af00; text-decoration-color: #00af00\">48</span>)     │           <span style=\"color: #00af00; text-decoration-color: #00af00\">192</span> │\n",
       "│ (<span style=\"color: #0087ff; text-decoration-color: #0087ff\">BatchNormalization</span>)            │                        │               │\n",
       "├─────────────────────────────────┼────────────────────────┼───────────────┤\n",
       "│ conv2d_2 (<span style=\"color: #0087ff; text-decoration-color: #0087ff\">Conv2D</span>)               │ (<span style=\"color: #00d7ff; text-decoration-color: #00d7ff\">None</span>, <span style=\"color: #00af00; text-decoration-color: #00af00\">29</span>, <span style=\"color: #00af00; text-decoration-color: #00af00\">51</span>, <span style=\"color: #00af00; text-decoration-color: #00af00\">48</span>)     │        <span style=\"color: #00af00; text-decoration-color: #00af00\">57,648</span> │\n",
       "├─────────────────────────────────┼────────────────────────┼───────────────┤\n",
       "│ max_pooling2d_2 (<span style=\"color: #0087ff; text-decoration-color: #0087ff\">MaxPooling2D</span>)  │ (<span style=\"color: #00d7ff; text-decoration-color: #00d7ff\">None</span>, <span style=\"color: #00af00; text-decoration-color: #00af00\">15</span>, <span style=\"color: #00af00; text-decoration-color: #00af00\">26</span>, <span style=\"color: #00af00; text-decoration-color: #00af00\">48</span>)     │             <span style=\"color: #00af00; text-decoration-color: #00af00\">0</span> │\n",
       "├─────────────────────────────────┼────────────────────────┼───────────────┤\n",
       "│ batch_normalization_2           │ (<span style=\"color: #00d7ff; text-decoration-color: #00d7ff\">None</span>, <span style=\"color: #00af00; text-decoration-color: #00af00\">15</span>, <span style=\"color: #00af00; text-decoration-color: #00af00\">26</span>, <span style=\"color: #00af00; text-decoration-color: #00af00\">48</span>)     │           <span style=\"color: #00af00; text-decoration-color: #00af00\">192</span> │\n",
       "│ (<span style=\"color: #0087ff; text-decoration-color: #0087ff\">BatchNormalization</span>)            │                        │               │\n",
       "├─────────────────────────────────┼────────────────────────┼───────────────┤\n",
       "│ flatten (<span style=\"color: #0087ff; text-decoration-color: #0087ff\">Flatten</span>)               │ (<span style=\"color: #00d7ff; text-decoration-color: #00d7ff\">None</span>, <span style=\"color: #00af00; text-decoration-color: #00af00\">18720</span>)          │             <span style=\"color: #00af00; text-decoration-color: #00af00\">0</span> │\n",
       "├─────────────────────────────────┼────────────────────────┼───────────────┤\n",
       "│ dense (<span style=\"color: #0087ff; text-decoration-color: #0087ff\">Dense</span>)                   │ (<span style=\"color: #00d7ff; text-decoration-color: #00d7ff\">None</span>, <span style=\"color: #00af00; text-decoration-color: #00af00\">64</span>)             │     <span style=\"color: #00af00; text-decoration-color: #00af00\">1,198,144</span> │\n",
       "├─────────────────────────────────┼────────────────────────┼───────────────┤\n",
       "│ dropout (<span style=\"color: #0087ff; text-decoration-color: #0087ff\">Dropout</span>)               │ (<span style=\"color: #00d7ff; text-decoration-color: #00d7ff\">None</span>, <span style=\"color: #00af00; text-decoration-color: #00af00\">64</span>)             │             <span style=\"color: #00af00; text-decoration-color: #00af00\">0</span> │\n",
       "├─────────────────────────────────┼────────────────────────┼───────────────┤\n",
       "│ dense_1 (<span style=\"color: #0087ff; text-decoration-color: #0087ff\">Dense</span>)                 │ (<span style=\"color: #00d7ff; text-decoration-color: #00d7ff\">None</span>, <span style=\"color: #00af00; text-decoration-color: #00af00\">12</span>)             │           <span style=\"color: #00af00; text-decoration-color: #00af00\">780</span> │\n",
       "└─────────────────────────────────┴────────────────────────┴───────────────┘\n",
       "</pre>\n"
      ],
      "text/plain": [
       "┏━━━━━━━━━━━━━━━━━━━━━━━━━━━━━━━━━┳━━━━━━━━━━━━━━━━━━━━━━━━┳━━━━━━━━━━━━━━━┓\n",
       "┃\u001b[1m \u001b[0m\u001b[1mLayer (type)                   \u001b[0m\u001b[1m \u001b[0m┃\u001b[1m \u001b[0m\u001b[1mOutput Shape          \u001b[0m\u001b[1m \u001b[0m┃\u001b[1m \u001b[0m\u001b[1m      Param #\u001b[0m\u001b[1m \u001b[0m┃\n",
       "┡━━━━━━━━━━━━━━━━━━━━━━━━━━━━━━━━━╇━━━━━━━━━━━━━━━━━━━━━━━━╇━━━━━━━━━━━━━━━┩\n",
       "│ conv2d (\u001b[38;5;33mConv2D\u001b[0m)                 │ (\u001b[38;5;45mNone\u001b[0m, \u001b[38;5;34m124\u001b[0m, \u001b[38;5;34m212\u001b[0m, \u001b[38;5;34m24\u001b[0m)   │           \u001b[38;5;34m624\u001b[0m │\n",
       "├─────────────────────────────────┼────────────────────────┼───────────────┤\n",
       "│ max_pooling2d (\u001b[38;5;33mMaxPooling2D\u001b[0m)    │ (\u001b[38;5;45mNone\u001b[0m, \u001b[38;5;34m62\u001b[0m, \u001b[38;5;34m106\u001b[0m, \u001b[38;5;34m24\u001b[0m)    │             \u001b[38;5;34m0\u001b[0m │\n",
       "├─────────────────────────────────┼────────────────────────┼───────────────┤\n",
       "│ batch_normalization             │ (\u001b[38;5;45mNone\u001b[0m, \u001b[38;5;34m62\u001b[0m, \u001b[38;5;34m106\u001b[0m, \u001b[38;5;34m24\u001b[0m)    │            \u001b[38;5;34m96\u001b[0m │\n",
       "│ (\u001b[38;5;33mBatchNormalization\u001b[0m)            │                        │               │\n",
       "├─────────────────────────────────┼────────────────────────┼───────────────┤\n",
       "│ conv2d_1 (\u001b[38;5;33mConv2D\u001b[0m)               │ (\u001b[38;5;45mNone\u001b[0m, \u001b[38;5;34m58\u001b[0m, \u001b[38;5;34m102\u001b[0m, \u001b[38;5;34m48\u001b[0m)    │        \u001b[38;5;34m28,848\u001b[0m │\n",
       "├─────────────────────────────────┼────────────────────────┼───────────────┤\n",
       "│ max_pooling2d_1 (\u001b[38;5;33mMaxPooling2D\u001b[0m)  │ (\u001b[38;5;45mNone\u001b[0m, \u001b[38;5;34m29\u001b[0m, \u001b[38;5;34m51\u001b[0m, \u001b[38;5;34m48\u001b[0m)     │             \u001b[38;5;34m0\u001b[0m │\n",
       "├─────────────────────────────────┼────────────────────────┼───────────────┤\n",
       "│ batch_normalization_1           │ (\u001b[38;5;45mNone\u001b[0m, \u001b[38;5;34m29\u001b[0m, \u001b[38;5;34m51\u001b[0m, \u001b[38;5;34m48\u001b[0m)     │           \u001b[38;5;34m192\u001b[0m │\n",
       "│ (\u001b[38;5;33mBatchNormalization\u001b[0m)            │                        │               │\n",
       "├─────────────────────────────────┼────────────────────────┼───────────────┤\n",
       "│ conv2d_2 (\u001b[38;5;33mConv2D\u001b[0m)               │ (\u001b[38;5;45mNone\u001b[0m, \u001b[38;5;34m29\u001b[0m, \u001b[38;5;34m51\u001b[0m, \u001b[38;5;34m48\u001b[0m)     │        \u001b[38;5;34m57,648\u001b[0m │\n",
       "├─────────────────────────────────┼────────────────────────┼───────────────┤\n",
       "│ max_pooling2d_2 (\u001b[38;5;33mMaxPooling2D\u001b[0m)  │ (\u001b[38;5;45mNone\u001b[0m, \u001b[38;5;34m15\u001b[0m, \u001b[38;5;34m26\u001b[0m, \u001b[38;5;34m48\u001b[0m)     │             \u001b[38;5;34m0\u001b[0m │\n",
       "├─────────────────────────────────┼────────────────────────┼───────────────┤\n",
       "│ batch_normalization_2           │ (\u001b[38;5;45mNone\u001b[0m, \u001b[38;5;34m15\u001b[0m, \u001b[38;5;34m26\u001b[0m, \u001b[38;5;34m48\u001b[0m)     │           \u001b[38;5;34m192\u001b[0m │\n",
       "│ (\u001b[38;5;33mBatchNormalization\u001b[0m)            │                        │               │\n",
       "├─────────────────────────────────┼────────────────────────┼───────────────┤\n",
       "│ flatten (\u001b[38;5;33mFlatten\u001b[0m)               │ (\u001b[38;5;45mNone\u001b[0m, \u001b[38;5;34m18720\u001b[0m)          │             \u001b[38;5;34m0\u001b[0m │\n",
       "├─────────────────────────────────┼────────────────────────┼───────────────┤\n",
       "│ dense (\u001b[38;5;33mDense\u001b[0m)                   │ (\u001b[38;5;45mNone\u001b[0m, \u001b[38;5;34m64\u001b[0m)             │     \u001b[38;5;34m1,198,144\u001b[0m │\n",
       "├─────────────────────────────────┼────────────────────────┼───────────────┤\n",
       "│ dropout (\u001b[38;5;33mDropout\u001b[0m)               │ (\u001b[38;5;45mNone\u001b[0m, \u001b[38;5;34m64\u001b[0m)             │             \u001b[38;5;34m0\u001b[0m │\n",
       "├─────────────────────────────────┼────────────────────────┼───────────────┤\n",
       "│ dense_1 (\u001b[38;5;33mDense\u001b[0m)                 │ (\u001b[38;5;45mNone\u001b[0m, \u001b[38;5;34m12\u001b[0m)             │           \u001b[38;5;34m780\u001b[0m │\n",
       "└─────────────────────────────────┴────────────────────────┴───────────────┘\n"
      ]
     },
     "metadata": {},
     "output_type": "display_data"
    },
    {
     "data": {
      "text/html": [
       "<pre style=\"white-space:pre;overflow-x:auto;line-height:normal;font-family:Menlo,'DejaVu Sans Mono',consolas,'Courier New',monospace\"><span style=\"font-weight: bold\"> Total params: </span><span style=\"color: #00af00; text-decoration-color: #00af00\">3,859,094</span> (14.72 MB)\n",
       "</pre>\n"
      ],
      "text/plain": [
       "\u001b[1m Total params: \u001b[0m\u001b[38;5;34m3,859,094\u001b[0m (14.72 MB)\n"
      ]
     },
     "metadata": {},
     "output_type": "display_data"
    },
    {
     "data": {
      "text/html": [
       "<pre style=\"white-space:pre;overflow-x:auto;line-height:normal;font-family:Menlo,'DejaVu Sans Mono',consolas,'Courier New',monospace\"><span style=\"font-weight: bold\"> Trainable params: </span><span style=\"color: #00af00; text-decoration-color: #00af00\">1,286,284</span> (4.91 MB)\n",
       "</pre>\n"
      ],
      "text/plain": [
       "\u001b[1m Trainable params: \u001b[0m\u001b[38;5;34m1,286,284\u001b[0m (4.91 MB)\n"
      ]
     },
     "metadata": {},
     "output_type": "display_data"
    },
    {
     "data": {
      "text/html": [
       "<pre style=\"white-space:pre;overflow-x:auto;line-height:normal;font-family:Menlo,'DejaVu Sans Mono',consolas,'Courier New',monospace\"><span style=\"font-weight: bold\"> Non-trainable params: </span><span style=\"color: #00af00; text-decoration-color: #00af00\">240</span> (960.00 B)\n",
       "</pre>\n"
      ],
      "text/plain": [
       "\u001b[1m Non-trainable params: \u001b[0m\u001b[38;5;34m240\u001b[0m (960.00 B)\n"
      ]
     },
     "metadata": {},
     "output_type": "display_data"
    },
    {
     "data": {
      "text/html": [
       "<pre style=\"white-space:pre;overflow-x:auto;line-height:normal;font-family:Menlo,'DejaVu Sans Mono',consolas,'Courier New',monospace\"><span style=\"font-weight: bold\"> Optimizer params: </span><span style=\"color: #00af00; text-decoration-color: #00af00\">2,572,570</span> (9.81 MB)\n",
       "</pre>\n"
      ],
      "text/plain": [
       "\u001b[1m Optimizer params: \u001b[0m\u001b[38;5;34m2,572,570\u001b[0m (9.81 MB)\n"
      ]
     },
     "metadata": {},
     "output_type": "display_data"
    }
   ],
   "source": [
    "model.compile(optimizer=keras.optimizers.Adam(learning_rate=0.0001),\n",
    "              loss=\"sparse_categorical_crossentropy\", metrics=[\"accuracy\"])\n",
    "\n",
    "reduce_lr = ReduceLROnPlateau(monitor='val_loss', factor=0.1, patience=10, min_lr=0.00001, verbose=1)\n",
    "early_stopping = EarlyStopping(monitor='val_loss', patience=20, verbose=1)\n",
    "\n",
    "history = model.fit(\n",
    "    x_train, y_train,\n",
    "    validation_data=(x_val, y_val),\n",
    "    epochs=50,\n",
    "    batch_size=32,\n",
    "    callbacks=[reduce_lr, early_stopping],\n",
    "    verbose=1\n",
    ")\n",
    "\n",
    "model.summary()"
   ]
  },
  {
   "cell_type": "code",
   "execution_count": 22,
   "metadata": {},
   "outputs": [],
   "source": [
    "font = ImageFont.truetype(\"arial.ttf\", 12)\n",
    "img = visualkeras.layered_view(model, legend=True, font=font, scale_xy=1, spacing=10, draw_volume=True)  \n",
    "img.save(\"model_visualization.png\")\n",
    "img.show()"
   ]
  },
  {
   "cell_type": "code",
   "execution_count": 13,
   "metadata": {},
   "outputs": [
    {
     "name": "stdout",
     "output_type": "stream",
     "text": [
      "\u001b[1m6/6\u001b[0m \u001b[32m━━━━━━━━━━━━━━━━━━━━\u001b[0m\u001b[37m\u001b[0m \u001b[1m0s\u001b[0m 43ms/step - accuracy: 0.9582 - loss: 0.1943\n",
      "Test Loss: 0.1793368011713028\n",
      "Test Accuracy: 0.9611111283302307\n"
     ]
    }
   ],
   "source": [
    "score = model.evaluate(x_test, y_test)\n",
    "print(f\"Test Loss: {score[0]}\")\n",
    "print(f\"Test Accuracy: {score[1]}\")"
   ]
  },
  {
   "cell_type": "code",
   "execution_count": 14,
   "metadata": {},
   "outputs": [
    {
     "name": "stdout",
     "output_type": "stream",
     "text": [
      "\u001b[1m6/6\u001b[0m \u001b[32m━━━━━━━━━━━━━━━━━━━━\u001b[0m\u001b[37m\u001b[0m \u001b[1m0s\u001b[0m 60ms/step\n",
      "Predicted classes: [ 2 11  7  8  1  3  7  5 11 10  7  8  5  0 11  3  3  4  3  8  3  5  5  7\n",
      "  2  2  2  5  4  4  8  1  9  8  6  2  9  8 10  4  0  3  1  9  5  4  2  9\n",
      "  8  4  6  3  9  0  9  0  7 10  4  1  5  2  5  6 10 10  5  5  4 10 11  4\n",
      "  0  0  5 11  4  0  2  8  4  1  7  5  8  0  5  4  2  7  0 11  7 11  0  3\n",
      "  5  3  7  5  1  3 11 11  1  8  2 11 11  6  0 11  0 11  8  4  5  0 11  1\n",
      "  1 10  0  6  2  4  0  7 10  7 10  0  3  6  4  1  6  4  2 10  6  3  9  4\n",
      "  1 10  5 11  0  4 11  2  8  4  4  7  9  2  6  1  3  1  9  1 11  1  5  4\n",
      "  7 11  1  5  1  1  4 11  1  5  7  3]\n",
      "True classes: [ 2  4  7  8  1  3  7  5 11 10  7  8  5  0 11  3  3  4  3  8  3  5  5  7\n",
      "  2  2  2  5  4  4  8  1  9  6  6  2  9  8 10  4  0  3  1  9  5  4  2  9\n",
      "  8  4  6  3  9  0  9  0  7 10  4  1  5  2  6  6 10 10  5  5  4 10 11  4\n",
      "  0 11 11 11  4  0  2  8  4  1  7  5  8  0  5  4  2  7  0 11  7 11  0  3\n",
      "  5  3  7  5  1  7 11 11  1  8  2 11 11  6  0 11  0 11  8  4  5  0 11  1\n",
      "  1 10  0  6  2  4  0  7 10  7 10  0  3  6  4  1  6  4  2 10  6  3  9  4\n",
      "  1 10  5 11  0  4 11  2  8  4  4  7  9  2  6  1  3  1  9  1 11  1  5  4\n",
      "  7 11  1  5  1  1  4  2  1  5  7  3]\n",
      "Classification Report:\n",
      "                                      precision    recall  f1-score   support\n",
      "\n",
      "Ardhito Pramono_Dancing In September       0.94      1.00      0.97        16\n",
      "      Ed Sheeran_Supermarket Flowers       1.00      1.00      1.00        19\n",
      "               GANGGA_Whiskey Bottle       1.00      0.93      0.97        15\n",
      "       Giveon_Heartbreak Anniversary       0.93      1.00      0.96        13\n",
      "        Gracie Abrams_That’s So True       1.00      0.96      0.98        23\n",
      "                    Keshi_UNDERSTAND       0.90      1.00      0.95        18\n",
      "                    Labrinth_Jealous       1.00      0.82      0.90        11\n",
      "          Lady Gaga_Die With A Smile       1.00      0.93      0.97        15\n",
      "               Lauv_First Heartbreak       0.92      1.00      0.96        11\n",
      "           Lukas Graham_Love Someone       1.00      1.00      1.00         9\n",
      "              Rich Brian_100 Degrees       1.00      1.00      1.00        11\n",
      "      Ricky Montgomery_This December       0.89      0.89      0.89        19\n",
      "\n",
      "                            accuracy                           0.96       180\n",
      "                           macro avg       0.97      0.96      0.96       180\n",
      "                        weighted avg       0.96      0.96      0.96       180\n",
      "\n"
     ]
    }
   ],
   "source": [
    "y_pred = model.predict(x_test)\n",
    "y_pred_classes = np.argmax(y_pred, axis=1)\n",
    "print(\"Predicted classes:\", y_pred_classes)\n",
    "print(\"True classes:\", y_test)\n",
    "\n",
    "print(\"Classification Report:\")\n",
    "print(classification_report(y_test, y_pred_classes, target_names=label_encoder.classes_))"
   ]
  },
  {
   "cell_type": "code",
   "execution_count": 15,
   "metadata": {
    "colab": {
     "base_uri": "https://localhost:8080/"
    },
    "id": "FJZ-gLRC-PhS",
    "outputId": "c0ed6530-2b72-4af8-b0a6-3810b614418e"
   },
   "outputs": [
    {
     "data": {
      "image/png": "[encoded data removed]",
      "text/plain": [
       "<Figure size 1000x500 with 2 Axes>"
      ]
     },
     "metadata": {},
     "output_type": "display_data"
    }
   ],
   "source": [
    "acc = history.history['accuracy']  \n",
    "val_acc = history.history['val_accuracy'] \n",
    "\n",
    "loss = history.history['loss']\n",
    "val_loss = history.history['val_loss']\n",
    "\n",
    "plt.figure(figsize=(10, 5))\n",
    "plt.suptitle(\"Loss and Accuracy - Spectrogram Tune Guessr\", fontsize=14, fontweight='bold')  \n",
    "\n",
    "plt.subplot(1, 2, 1)\n",
    "plt.plot(acc, label=\"Training Accuracy\")\n",
    "plt.plot(val_acc, label=\"Test Accuracy\")\n",
    "plt.legend()\n",
    "plt.title('Accuracy')\n",
    "plt.xlabel('Epoch')\n",
    "plt.ylabel('Accuracy')\n",
    "plt.ylim(bottom=0)\n",
    "\n",
    "plt.subplot(1, 2, 2)\n",
    "plt.plot(loss, label=\"Training Loss\")\n",
    "plt.plot(val_loss, label=\"Test Loss\")\n",
    "plt.legend()\n",
    "plt.title('Loss')\n",
    "plt.xlabel('Epoch')\n",
    "plt.ylabel('Loss')\n",
    "plt.ylim(bottom=0)\n",
    "plt.savefig('spectrogram_loss_accuracy.png')\n",
    "plt.show()"
   ]
  },
  {
   "cell_type": "code",
   "execution_count": 19,
   "metadata": {},
   "outputs": [
    {
     "name": "stdout",
     "output_type": "stream",
     "text": [
      "\u001b[1m1/1\u001b[0m \u001b[32m━━━━━━━━━━━━━━━━━━━━\u001b[0m\u001b[37m\u001b[0m \u001b[1m0s\u001b[0m 33ms/step\n",
      "Predicted Artist: Ardhito Pramono\n",
      "Predicted Song: Dancing In September\n"
     ]
    }
   ],
   "source": [
    "def predict_song_spectrogram(file_path):\n",
    "    signal, sr = librosa.load(file_path, sr=SAMPLE_RATE)\n",
    "    segment_samples = int(SAMPLE_RATE * 5)\n",
    "    num_segments = math.ceil(len(signal) / segment_samples)\n",
    "\n",
    "    predictions = []\n",
    "\n",
    "    for s in range(num_segments):\n",
    "        start = segment_samples * s\n",
    "        end = start + segment_samples\n",
    "        segment = signal[start:end]\n",
    "\n",
    "        if len(segment) < segment_samples:\n",
    "            segment = np.pad(segment, (0, segment_samples - len(segment)), mode='constant')\n",
    "\n",
    "        log_spec = extract_spectrogram(segment)\n",
    "        if log_spec is not None:\n",
    "            max_len = model.input_shape[2]\n",
    "            padded_spec = np.pad(log_spec, ((0, 0), (0, max_len - log_spec.shape[1])), mode='constant')\n",
    "            padded_spec = padded_spec[np.newaxis, ..., np.newaxis]  \n",
    "            prediction = model.predict(padded_spec)\n",
    "            predicted_label = np.argmax(prediction)\n",
    "            predictions.append(predicted_label)\n",
    "\n",
    "    most_common_label = Counter(predictions).most_common(1)[0][0]\n",
    "    predicted_song = label_encoder.inverse_transform([most_common_label])[0]\n",
    "\n",
    "    try:\n",
    "        artist, song = predicted_song.split(\"_\")\n",
    "    except ValueError:\n",
    "        artist, song = predicted_song, \"Unknown Title\"\n",
    "\n",
    "    print(f\"Predicted Artist: {artist}\")\n",
    "    print(f\"Predicted Song: {song}\")\n",
    "    return artist, song\n",
    "\n",
    "new_file_path = \"../dataset_wav/Ardhito Pramono_Dancing In September/Ardhito Pramono_Dancing In September_segment_3.wav\"\n",
    "predicted_artist, predicted_song = predict_song_spectrogram(new_file_path)"
   ]
  },
  {
   "cell_type": "code",
   "execution_count": 18,
   "metadata": {},
   "outputs": [],
   "source": [
    "model.save(\"spectrogram_model.keras\")"
   ]
  }
 ],
 "metadata": {
  "colab": {
   "provenance": []
  },
  "kernelspec": {
   "display_name": "base",
   "language": "python",
   "name": "python3"
  },
  "language_info": {
   "codemirror_mode": {
    "name": "ipython",
    "version": 3
   },
   "file_extension": ".py",
   "mimetype": "text/x-python",
   "name": "python",
   "nbconvert_exporter": "python",
   "pygments_lexer": "ipython3",
   "version": "3.12.4"
  }
 },
 "nbformat": 4,
 "nbformat_minor": 0
}
