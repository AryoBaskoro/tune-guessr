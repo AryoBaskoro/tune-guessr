{
 "cells": [
  {
   "cell_type": "code",
   "execution_count": 16,
   "metadata": {
    "id": "X0-MD8wSLP_d"
   },
   "outputs": [],
   "source": [
    "import os\n",
    "import random\n",
    "import librosa\n",
    "import numpy as np\n",
    "import matplotlib.pyplot as plt\n",
    "import math\n",
    "from sklearn.model_selection import train_test_split\n",
    "from sklearn.preprocessing import LabelEncoder\n",
    "from sklearn.metrics import classification_report\n",
    "from tensorflow import keras\n",
    "from keras import layers, models\n",
    "from keras.callbacks import ReduceLROnPlateau, EarlyStopping\n",
    "from collections import Counter\n",
    "import keras\n",
    "from keras import models\n",
    "from keras import layers\n",
    "import visualkeras \n",
    "from PIL import ImageFont\n",
    "from PIL import ImageDraw"
   ]
  },
  {
   "cell_type": "code",
   "execution_count": 17,
   "metadata": {},
   "outputs": [],
   "source": [
    "SAMPLE_RATE = 22050\n",
    "N_FFT = 2048\n",
    "HOP_LENGTH = 512\n",
    "N_MELS = 128\n",
    "SEGMENT_DURATION = 5  # in seconds\n",
    "NUM_SEGMENTS = 10\n",
    "DATASET_PATH = \"dataset_wav\""
   ]
  },
  {
   "cell_type": "code",
   "execution_count": 18,
   "metadata": {
    "colab": {
     "base_uri": "https://localhost:8080/"
    },
    "id": "6X8CjgD3i4-n",
    "outputId": "e655b295-8f07-440b-db44-0b3cc41aa86e"
   },
   "outputs": [],
   "source": [
    "\n",
    "def augment_audio(signal, sr):\n",
    "    augmented = []\n",
    "\n",
    "    # Pitch shifting\n",
    "    try:\n",
    "        steps = random.randint(-5, 5)\n",
    "        shifted = librosa.effects.pitch_shift(signal, sr=sr, n_steps=steps)\n",
    "        augmented.append(shifted)\n",
    "    except Exception as e:\n",
    "        print(f\"Pitch-shift error: {e}\")\n",
    "\n",
    "    # Add noise\n",
    "    noise = signal + 0.005 * np.random.randn(len(signal))\n",
    "    augmented.append(noise)\n",
    "\n",
    "    return augmented\n"
   ]
  },
  {
   "cell_type": "code",
   "execution_count": 19,
   "metadata": {
    "id": "ZzF7eDN1lXfv"
   },
   "outputs": [],
   "source": [
    "def extract_spectrogram(signal, sr=SAMPLE_RATE):\n",
    "    mel_spec = librosa.feature.melspectrogram(y=signal, sr=sr, n_fft=N_FFT, hop_length=HOP_LENGTH, n_mels=N_MELS)\n",
    "    log_spec = librosa.power_to_db(mel_spec)\n",
    "    return log_spec"
   ]
  },
  {
   "cell_type": "code",
   "execution_count": 20,
   "metadata": {},
   "outputs": [],
   "source": [
    "# def load_dataset(dataset_path):\n",
    "#     features = []\n",
    "#     labels = []\n",
    "\n",
    "#     num_samples_per_segment = int(SAMPLE_RATE * SEGMENT_DURATION / NUM_SEGMENTS)\n",
    "#     expected_length = math.ceil(num_samples_per_segment / HOP_LENGTH)\n",
    "\n",
    "#     for dirpath, _, filenames in os.walk(dataset_path):\n",
    "#         if dirpath != dataset_path:\n",
    "#             label = os.path.basename(dirpath)\n",
    "#             print(f\"Processing label: {label}\")\n",
    "#             for filename in filenames:\n",
    "#                 if filename.endswith(\".wav\"):\n",
    "#                     file_path = os.path.join(dirpath, filename)\n",
    "#                     signal, sr = librosa.load(file_path, sr=SAMPLE_RATE)\n",
    "\n",
    "#                     for s in range(NUM_SEGMENTS):\n",
    "#                         start = num_samples_per_segment * s\n",
    "#                         end = start + num_samples_per_segment\n",
    "#                         segment = signal[start:end]\n",
    "\n",
    "#                         if len(segment) < num_samples_per_segment:\n",
    "#                             continue\n",
    "\n",
    "#                         spec = extract_spectrogram(segment, sr)\n",
    "#                         spec = spec.T  # shape: (time, n_mels)\n",
    "\n",
    "#                         if spec.shape[0] == expected_length:\n",
    "#                             features.append(spec.tolist())\n",
    "#                             labels.append(label)\n",
    "\n",
    "#                     # Augmentasi\n",
    "#                     augmented_signals = augment_audio(signal, sr)\n",
    "#                     for aug in augmented_signals:\n",
    "#                         for s in range(NUM_SEGMENTS):\n",
    "#                             start = num_samples_per_segment * s\n",
    "#                             end = start + num_samples_per_segment\n",
    "#                             segment = aug[start:end]\n",
    "\n",
    "#                             if len(segment) < num_samples_per_segment:\n",
    "#                                 continue\n",
    "\n",
    "#                             spec = extract_spectrogram(segment, sr)\n",
    "#                             spec = spec.T\n",
    "\n",
    "#                             if spec.shape[0] == expected_length:\n",
    "#                                 features.append(spec.tolist())\n",
    "#                                 labels.append(label)\n",
    "\n",
    "#     return np.array(features), np.array(labels)\n",
    "\n",
    "def load_dataset(dataset_path, segment_duration=5):\n",
    "    features = []\n",
    "    labels = []\n",
    "    num_samples = int(SAMPLE_RATE * segment_duration)\n",
    "\n",
    "    for dirpath, dirnames, filenames in os.walk(dataset_path):\n",
    "        if dirpath != dataset_path:\n",
    "            label = os.path.basename(dirpath)\n",
    "            print(f\"Processing: {label}\")\n",
    "\n",
    "            for file_name in filenames:\n",
    "                if file_name.endswith(\".wav\"):\n",
    "                    file_path = os.path.join(dirpath, file_name)\n",
    "                    try:\n",
    "                        signal, sr = librosa.load(file_path, sr=SAMPLE_RATE)\n",
    "\n",
    "                        for s in range(NUM_SEGMENTS):\n",
    "                            start = num_samples * s\n",
    "                            end = start + num_samples\n",
    "\n",
    "                            if end <= len(signal):\n",
    "                                segment = signal[start:end]\n",
    "                                log_spec = extract_spectrogram(segment)\n",
    "                                if log_spec is not None:\n",
    "                                    features.append(log_spec)\n",
    "                                    labels.append(label)\n",
    "\n",
    "                        augmented_signals = augment_audio(signal, sr)\n",
    "                        for aug in augmented_signals:\n",
    "                            for s in range(NUM_SEGMENTS):\n",
    "                                start = num_samples * s\n",
    "                                end = start + num_samples\n",
    "                                if end <= len(aug):\n",
    "                                    segment = aug[start:end]\n",
    "                                    log_spec = extract_spectrogram(segment)\n",
    "                                    if log_spec is not None:\n",
    "                                        features.append(log_spec)\n",
    "                                        labels.append(label)\n",
    "\n",
    "                    except Exception as e:\n",
    "                        print(f\"Error loading {file_path}: {e}\")\n",
    "\n",
    "    # Padding/trimming spectrograms to same shape\n",
    "    max_len = max(spec.shape[1] for spec in features)\n",
    "    padded_features = [np.pad(spec, ((0, 0), (0, max_len - spec.shape[1])), mode='constant') for spec in features]\n",
    "\n",
    "    return np.array(padded_features), np.array(labels)\n"
   ]
  },
  {
   "cell_type": "code",
   "execution_count": 21,
   "metadata": {},
   "outputs": [
    {
     "name": "stdout",
     "output_type": "stream",
     "text": [
      "Processing: Ardhito Pramono_Dancing In September\n",
      "Processing: Ed Sheeran_Supermarket Flowers\n",
      "Processing: GANGGA_Whiskey Bottle\n",
      "Processing: Giveon_Heartbreak Anniversary\n",
      "Processing: Gracie Abrams_That’s So True\n",
      "Processing: Keshi_UNDERSTAND\n",
      "Processing: Labrinth_Jealous\n",
      "Processing: Lady Gaga_Die With A Smile\n",
      "Processing: Lauv_First Heartbreak\n",
      "Processing: Lukas Graham_Love Someone\n",
      "Processing: Rich Brian_100 Degrees\n",
      "Processing: Ricky Montgomery_This December\n"
     ]
    }
   ],
   "source": [
    "X, y = load_dataset(DATASET_PATH)\n",
    "label_encoder = LabelEncoder()\n",
    "y = label_encoder.fit_transform(y)\n",
    "X = X[..., np.newaxis]"
   ]
  },
  {
   "cell_type": "code",
   "execution_count": 22,
   "metadata": {},
   "outputs": [],
   "source": [
    "x_train, x_temp, y_train, y_temp = train_test_split(X, y, test_size=0.4, random_state=42, shuffle=True)\n",
    "x_val, x_test, y_val, y_test = train_test_split(x_temp, y_temp, test_size=0.5, random_state=42, shuffle=True)"
   ]
  },
  {
   "cell_type": "code",
   "execution_count": 23,
   "metadata": {},
   "outputs": [],
   "source": [
    "input_shape = X.shape[1:]  # (time, mels, 1)\n",
    "model = models.Sequential([\n",
    "    layers.Input(shape=input_shape),\n",
    "    layers.Conv2D(24, (5, 5), activation=\"relu\"),\n",
    "    layers.MaxPooling2D((4, 4), strides=(2, 2), padding=\"same\"),\n",
    "    layers.BatchNormalization(),\n",
    "\n",
    "    layers.Conv2D(48, (5, 5), activation=\"relu\"),\n",
    "    layers.MaxPooling2D((4, 4), strides=(2, 2), padding=\"same\"),\n",
    "    layers.BatchNormalization(),\n",
    "\n",
    "    layers.Conv2D(48, (5, 5), activation=\"relu\", padding=\"same\"),\n",
    "    layers.MaxPooling2D((4, 4), strides=(2, 2), padding=\"same\"),\n",
    "    layers.BatchNormalization(),\n",
    "\n",
    "    layers.Flatten(),\n",
    "    layers.Dense(64, activation=\"relu\"),\n",
    "    layers.Dropout(0.3),\n",
    "    layers.Dense(len(label_encoder.classes_), activation=\"softmax\")\n",
    "])"
   ]
  },
  {
   "cell_type": "code",
   "execution_count": 24,
   "metadata": {},
   "outputs": [
    {
     "name": "stdout",
     "output_type": "stream",
     "text": [
      "Epoch 1/50\n",
      "\u001b[1m14/14\u001b[0m \u001b[32m━━━━━━━━━━━━━━━━━━━━\u001b[0m\u001b[37m\u001b[0m \u001b[1m7s\u001b[0m 237ms/step - accuracy: 0.2607 - loss: 2.6282 - val_accuracy: 0.0764 - val_loss: 4.7531 - learning_rate: 1.0000e-04\n",
      "Epoch 2/50\n",
      "\u001b[1m14/14\u001b[0m \u001b[32m━━━━━━━━━━━━━━━━━━━━\u001b[0m\u001b[37m\u001b[0m \u001b[1m3s\u001b[0m 208ms/step - accuracy: 0.4935 - loss: 1.5225 - val_accuracy: 0.0833 - val_loss: 5.5319 - learning_rate: 1.0000e-04\n",
      "Epoch 3/50\n",
      "\u001b[1m14/14\u001b[0m \u001b[32m━━━━━━━━━━━━━━━━━━━━\u001b[0m\u001b[37m\u001b[0m \u001b[1m3s\u001b[0m 211ms/step - accuracy: 0.6908 - loss: 0.9714 - val_accuracy: 0.0764 - val_loss: 5.1362 - learning_rate: 1.0000e-04\n",
      "Epoch 4/50\n",
      "\u001b[1m14/14\u001b[0m \u001b[32m━━━━━━━━━━━━━━━━━━━━\u001b[0m\u001b[37m\u001b[0m \u001b[1m3s\u001b[0m 209ms/step - accuracy: 0.7437 - loss: 0.7403 - val_accuracy: 0.0972 - val_loss: 3.7374 - learning_rate: 1.0000e-04\n",
      "Epoch 5/50\n",
      "\u001b[1m14/14\u001b[0m \u001b[32m━━━━━━━━━━━━━━━━━━━━\u001b[0m\u001b[37m\u001b[0m \u001b[1m3s\u001b[0m 212ms/step - accuracy: 0.9008 - loss: 0.4395 - val_accuracy: 0.1736 - val_loss: 2.8822 - learning_rate: 1.0000e-04\n",
      "Epoch 6/50\n",
      "\u001b[1m14/14\u001b[0m \u001b[32m━━━━━━━━━━━━━━━━━━━━\u001b[0m\u001b[37m\u001b[0m \u001b[1m3s\u001b[0m 209ms/step - accuracy: 0.9042 - loss: 0.3360 - val_accuracy: 0.2847 - val_loss: 2.2654 - learning_rate: 1.0000e-04\n",
      "Epoch 7/50\n",
      "\u001b[1m14/14\u001b[0m \u001b[32m━━━━━━━━━━━━━━━━━━━━\u001b[0m\u001b[37m\u001b[0m \u001b[1m3s\u001b[0m 208ms/step - accuracy: 0.9356 - loss: 0.2474 - val_accuracy: 0.4444 - val_loss: 1.5975 - learning_rate: 1.0000e-04\n",
      "Epoch 8/50\n",
      "\u001b[1m14/14\u001b[0m \u001b[32m━━━━━━━━━━━━━━━━━━━━\u001b[0m\u001b[37m\u001b[0m \u001b[1m3s\u001b[0m 207ms/step - accuracy: 0.9505 - loss: 0.2018 - val_accuracy: 0.4583 - val_loss: 1.4545 - learning_rate: 1.0000e-04\n",
      "Epoch 9/50\n",
      "\u001b[1m14/14\u001b[0m \u001b[32m━━━━━━━━━━━━━━━━━━━━\u001b[0m\u001b[37m\u001b[0m \u001b[1m3s\u001b[0m 201ms/step - accuracy: 0.9716 - loss: 0.1345 - val_accuracy: 0.5764 - val_loss: 1.2975 - learning_rate: 1.0000e-04\n",
      "Epoch 10/50\n",
      "\u001b[1m14/14\u001b[0m \u001b[32m━━━━━━━━━━━━━━━━━━━━\u001b[0m\u001b[37m\u001b[0m \u001b[1m3s\u001b[0m 207ms/step - accuracy: 0.9440 - loss: 0.1530 - val_accuracy: 0.6389 - val_loss: 1.0811 - learning_rate: 1.0000e-04\n",
      "Epoch 11/50\n",
      "\u001b[1m14/14\u001b[0m \u001b[32m━━━━━━━━━━━━━━━━━━━━\u001b[0m\u001b[37m\u001b[0m \u001b[1m3s\u001b[0m 205ms/step - accuracy: 0.9786 - loss: 0.1167 - val_accuracy: 0.7569 - val_loss: 0.8058 - learning_rate: 1.0000e-04\n",
      "Epoch 12/50\n",
      "\u001b[1m14/14\u001b[0m \u001b[32m━━━━━━━━━━━━━━━━━━━━\u001b[0m\u001b[37m\u001b[0m \u001b[1m3s\u001b[0m 205ms/step - accuracy: 0.9675 - loss: 0.1089 - val_accuracy: 0.8125 - val_loss: 0.7213 - learning_rate: 1.0000e-04\n",
      "Epoch 13/50\n",
      "\u001b[1m14/14\u001b[0m \u001b[32m━━━━━━━━━━━━━━━━━━━━\u001b[0m\u001b[37m\u001b[0m \u001b[1m3s\u001b[0m 204ms/step - accuracy: 0.9738 - loss: 0.0905 - val_accuracy: 0.8472 - val_loss: 0.5911 - learning_rate: 1.0000e-04\n",
      "Epoch 14/50\n",
      "\u001b[1m14/14\u001b[0m \u001b[32m━━━━━━━━━━━━━━━━━━━━\u001b[0m\u001b[37m\u001b[0m \u001b[1m3s\u001b[0m 205ms/step - accuracy: 0.9928 - loss: 0.0533 - val_accuracy: 0.8681 - val_loss: 0.4733 - learning_rate: 1.0000e-04\n",
      "Epoch 15/50\n",
      "\u001b[1m14/14\u001b[0m \u001b[32m━━━━━━━━━━━━━━━━━━━━\u001b[0m\u001b[37m\u001b[0m \u001b[1m3s\u001b[0m 205ms/step - accuracy: 0.9909 - loss: 0.0515 - val_accuracy: 0.8889 - val_loss: 0.4362 - learning_rate: 1.0000e-04\n",
      "Epoch 16/50\n",
      "\u001b[1m14/14\u001b[0m \u001b[32m━━━━━━━━━━━━━━━━━━━━\u001b[0m\u001b[37m\u001b[0m \u001b[1m3s\u001b[0m 213ms/step - accuracy: 0.9931 - loss: 0.0324 - val_accuracy: 0.8819 - val_loss: 0.4153 - learning_rate: 1.0000e-04\n",
      "Epoch 17/50\n",
      "\u001b[1m14/14\u001b[0m \u001b[32m━━━━━━━━━━━━━━━━━━━━\u001b[0m\u001b[37m\u001b[0m \u001b[1m3s\u001b[0m 208ms/step - accuracy: 0.9784 - loss: 0.0651 - val_accuracy: 0.9028 - val_loss: 0.3882 - learning_rate: 1.0000e-04\n",
      "Epoch 18/50\n",
      "\u001b[1m14/14\u001b[0m \u001b[32m━━━━━━━━━━━━━━━━━━━━\u001b[0m\u001b[37m\u001b[0m \u001b[1m3s\u001b[0m 209ms/step - accuracy: 0.9930 - loss: 0.0374 - val_accuracy: 0.9097 - val_loss: 0.3570 - learning_rate: 1.0000e-04\n",
      "Epoch 19/50\n",
      "\u001b[1m14/14\u001b[0m \u001b[32m━━━━━━━━━━━━━━━━━━━━\u001b[0m\u001b[37m\u001b[0m \u001b[1m3s\u001b[0m 206ms/step - accuracy: 1.0000 - loss: 0.0307 - val_accuracy: 0.9097 - val_loss: 0.3170 - learning_rate: 1.0000e-04\n",
      "Epoch 20/50\n",
      "\u001b[1m14/14\u001b[0m \u001b[32m━━━━━━━━━━━━━━━━━━━━\u001b[0m\u001b[37m\u001b[0m \u001b[1m3s\u001b[0m 204ms/step - accuracy: 0.9937 - loss: 0.0298 - val_accuracy: 0.9167 - val_loss: 0.3274 - learning_rate: 1.0000e-04\n",
      "Epoch 21/50\n",
      "\u001b[1m14/14\u001b[0m \u001b[32m━━━━━━━━━━━━━━━━━━━━\u001b[0m\u001b[37m\u001b[0m \u001b[1m3s\u001b[0m 204ms/step - accuracy: 0.9981 - loss: 0.0424 - val_accuracy: 0.9236 - val_loss: 0.3349 - learning_rate: 1.0000e-04\n",
      "Epoch 22/50\n",
      "\u001b[1m14/14\u001b[0m \u001b[32m━━━━━━━━━━━━━━━━━━━━\u001b[0m\u001b[37m\u001b[0m \u001b[1m3s\u001b[0m 205ms/step - accuracy: 0.9840 - loss: 0.0489 - val_accuracy: 0.9236 - val_loss: 0.3008 - learning_rate: 1.0000e-04\n",
      "Epoch 23/50\n",
      "\u001b[1m14/14\u001b[0m \u001b[32m━━━━━━━━━━━━━━━━━━━━\u001b[0m\u001b[37m\u001b[0m \u001b[1m3s\u001b[0m 205ms/step - accuracy: 0.9954 - loss: 0.0337 - val_accuracy: 0.9097 - val_loss: 0.3171 - learning_rate: 1.0000e-04\n",
      "Epoch 24/50\n",
      "\u001b[1m14/14\u001b[0m \u001b[32m━━━━━━━━━━━━━━━━━━━━\u001b[0m\u001b[37m\u001b[0m \u001b[1m3s\u001b[0m 208ms/step - accuracy: 1.0000 - loss: 0.0233 - val_accuracy: 0.9306 - val_loss: 0.3033 - learning_rate: 1.0000e-04\n",
      "Epoch 25/50\n",
      "\u001b[1m14/14\u001b[0m \u001b[32m━━━━━━━━━━━━━━━━━━━━\u001b[0m\u001b[37m\u001b[0m \u001b[1m3s\u001b[0m 209ms/step - accuracy: 0.9951 - loss: 0.0262 - val_accuracy: 0.9236 - val_loss: 0.2658 - learning_rate: 1.0000e-04\n",
      "Epoch 26/50\n",
      "\u001b[1m14/14\u001b[0m \u001b[32m━━━━━━━━━━━━━━━━━━━━\u001b[0m\u001b[37m\u001b[0m \u001b[1m3s\u001b[0m 203ms/step - accuracy: 0.9954 - loss: 0.0247 - val_accuracy: 0.9167 - val_loss: 0.3052 - learning_rate: 1.0000e-04\n",
      "Epoch 27/50\n",
      "\u001b[1m14/14\u001b[0m \u001b[32m━━━━━━━━━━━━━━━━━━━━\u001b[0m\u001b[37m\u001b[0m \u001b[1m3s\u001b[0m 203ms/step - accuracy: 0.9920 - loss: 0.0267 - val_accuracy: 0.8958 - val_loss: 0.2918 - learning_rate: 1.0000e-04\n",
      "Epoch 28/50\n",
      "\u001b[1m14/14\u001b[0m \u001b[32m━━━━━━━━━━━━━━━━━━━━\u001b[0m\u001b[37m\u001b[0m \u001b[1m3s\u001b[0m 210ms/step - accuracy: 1.0000 - loss: 0.0131 - val_accuracy: 0.9097 - val_loss: 0.2834 - learning_rate: 1.0000e-04\n",
      "Epoch 29/50\n",
      "\u001b[1m14/14\u001b[0m \u001b[32m━━━━━━━━━━━━━━━━━━━━\u001b[0m\u001b[37m\u001b[0m \u001b[1m3s\u001b[0m 209ms/step - accuracy: 0.9893 - loss: 0.0314 - val_accuracy: 0.9375 - val_loss: 0.2968 - learning_rate: 1.0000e-04\n",
      "Epoch 30/50\n",
      "\u001b[1m14/14\u001b[0m \u001b[32m━━━━━━━━━━━━━━━━━━━━\u001b[0m\u001b[37m\u001b[0m \u001b[1m3s\u001b[0m 210ms/step - accuracy: 1.0000 - loss: 0.0136 - val_accuracy: 0.9097 - val_loss: 0.3061 - learning_rate: 1.0000e-04\n",
      "Epoch 31/50\n",
      "\u001b[1m14/14\u001b[0m \u001b[32m━━━━━━━━━━━━━━━━━━━━\u001b[0m\u001b[37m\u001b[0m \u001b[1m3s\u001b[0m 211ms/step - accuracy: 0.9813 - loss: 0.0375 - val_accuracy: 0.9306 - val_loss: 0.2884 - learning_rate: 1.0000e-04\n",
      "Epoch 32/50\n",
      "\u001b[1m14/14\u001b[0m \u001b[32m━━━━━━━━━━━━━━━━━━━━\u001b[0m\u001b[37m\u001b[0m \u001b[1m3s\u001b[0m 204ms/step - accuracy: 0.9992 - loss: 0.0146 - val_accuracy: 0.9167 - val_loss: 0.2831 - learning_rate: 1.0000e-04\n",
      "Epoch 33/50\n",
      "\u001b[1m14/14\u001b[0m \u001b[32m━━━━━━━━━━━━━━━━━━━━\u001b[0m\u001b[37m\u001b[0m \u001b[1m3s\u001b[0m 205ms/step - accuracy: 1.0000 - loss: 0.0140 - val_accuracy: 0.9097 - val_loss: 0.2896 - learning_rate: 1.0000e-04\n",
      "Epoch 34/50\n",
      "\u001b[1m14/14\u001b[0m \u001b[32m━━━━━━━━━━━━━━━━━━━━\u001b[0m\u001b[37m\u001b[0m \u001b[1m3s\u001b[0m 206ms/step - accuracy: 0.9982 - loss: 0.0114 - val_accuracy: 0.9236 - val_loss: 0.2987 - learning_rate: 1.0000e-04\n",
      "Epoch 35/50\n",
      "\u001b[1m14/14\u001b[0m \u001b[32m━━━━━━━━━━━━━━━━━━━━\u001b[0m\u001b[37m\u001b[0m \u001b[1m0s\u001b[0m 185ms/step - accuracy: 0.9991 - loss: 0.0121\n",
      "Epoch 35: ReduceLROnPlateau reducing learning rate to 1e-05.\n",
      "\u001b[1m14/14\u001b[0m \u001b[32m━━━━━━━━━━━━━━━━━━━━\u001b[0m\u001b[37m\u001b[0m \u001b[1m3s\u001b[0m 208ms/step - accuracy: 0.9990 - loss: 0.0120 - val_accuracy: 0.9306 - val_loss: 0.2901 - learning_rate: 1.0000e-04\n",
      "Epoch 36/50\n",
      "\u001b[1m14/14\u001b[0m \u001b[32m━━━━━━━━━━━━━━━━━━━━\u001b[0m\u001b[37m\u001b[0m \u001b[1m3s\u001b[0m 205ms/step - accuracy: 0.9992 - loss: 0.0108 - val_accuracy: 0.9306 - val_loss: 0.2836 - learning_rate: 1.0000e-05\n",
      "Epoch 37/50\n",
      "\u001b[1m14/14\u001b[0m \u001b[32m━━━━━━━━━━━━━━━━━━━━\u001b[0m\u001b[37m\u001b[0m \u001b[1m3s\u001b[0m 205ms/step - accuracy: 1.0000 - loss: 0.0116 - val_accuracy: 0.9375 - val_loss: 0.2775 - learning_rate: 1.0000e-05\n",
      "Epoch 38/50\n",
      "\u001b[1m14/14\u001b[0m \u001b[32m━━━━━━━━━━━━━━━━━━━━\u001b[0m\u001b[37m\u001b[0m \u001b[1m3s\u001b[0m 206ms/step - accuracy: 1.0000 - loss: 0.0093 - val_accuracy: 0.9375 - val_loss: 0.2736 - learning_rate: 1.0000e-05\n",
      "Epoch 39/50\n",
      "\u001b[1m14/14\u001b[0m \u001b[32m━━━━━━━━━━━━━━━━━━━━\u001b[0m\u001b[37m\u001b[0m \u001b[1m3s\u001b[0m 215ms/step - accuracy: 1.0000 - loss: 0.0092 - val_accuracy: 0.9444 - val_loss: 0.2697 - learning_rate: 1.0000e-05\n",
      "Epoch 40/50\n",
      "\u001b[1m14/14\u001b[0m \u001b[32m━━━━━━━━━━━━━━━━━━━━\u001b[0m\u001b[37m\u001b[0m \u001b[1m3s\u001b[0m 230ms/step - accuracy: 1.0000 - loss: 0.0154 - val_accuracy: 0.9444 - val_loss: 0.2649 - learning_rate: 1.0000e-05\n",
      "Epoch 41/50\n",
      "\u001b[1m14/14\u001b[0m \u001b[32m━━━━━━━━━━━━━━━━━━━━\u001b[0m\u001b[37m\u001b[0m \u001b[1m3s\u001b[0m 227ms/step - accuracy: 0.9967 - loss: 0.0160 - val_accuracy: 0.9444 - val_loss: 0.2631 - learning_rate: 1.0000e-05\n",
      "Epoch 42/50\n",
      "\u001b[1m14/14\u001b[0m \u001b[32m━━━━━━━━━━━━━━━━━━━━\u001b[0m\u001b[37m\u001b[0m \u001b[1m3s\u001b[0m 227ms/step - accuracy: 0.9952 - loss: 0.0151 - val_accuracy: 0.9514 - val_loss: 0.2642 - learning_rate: 1.0000e-05\n",
      "Epoch 43/50\n",
      "\u001b[1m14/14\u001b[0m \u001b[32m━━━━━━━━━━━━━━━━━━━━\u001b[0m\u001b[37m\u001b[0m \u001b[1m3s\u001b[0m 248ms/step - accuracy: 1.0000 - loss: 0.0073 - val_accuracy: 0.9514 - val_loss: 0.2640 - learning_rate: 1.0000e-05\n",
      "Epoch 44/50\n",
      "\u001b[1m14/14\u001b[0m \u001b[32m━━━━━━━━━━━━━━━━━━━━\u001b[0m\u001b[37m\u001b[0m \u001b[1m4s\u001b[0m 274ms/step - accuracy: 0.9997 - loss: 0.0091 - val_accuracy: 0.9514 - val_loss: 0.2648 - learning_rate: 1.0000e-05\n",
      "Epoch 45/50\n",
      "\u001b[1m14/14\u001b[0m \u001b[32m━━━━━━━━━━━━━━━━━━━━\u001b[0m\u001b[37m\u001b[0m \u001b[1m4s\u001b[0m 274ms/step - accuracy: 0.9969 - loss: 0.0102 - val_accuracy: 0.9444 - val_loss: 0.2677 - learning_rate: 1.0000e-05\n",
      "Epoch 46/50\n",
      "\u001b[1m14/14\u001b[0m \u001b[32m━━━━━━━━━━━━━━━━━━━━\u001b[0m\u001b[37m\u001b[0m \u001b[1m4s\u001b[0m 249ms/step - accuracy: 1.0000 - loss: 0.0126 - val_accuracy: 0.9444 - val_loss: 0.2678 - learning_rate: 1.0000e-05\n",
      "Epoch 47/50\n",
      "\u001b[1m14/14\u001b[0m \u001b[32m━━━━━━━━━━━━━━━━━━━━\u001b[0m\u001b[37m\u001b[0m \u001b[1m3s\u001b[0m 240ms/step - accuracy: 1.0000 - loss: 0.0062 - val_accuracy: 0.9444 - val_loss: 0.2662 - learning_rate: 1.0000e-05\n",
      "Epoch 48/50\n",
      "\u001b[1m14/14\u001b[0m \u001b[32m━━━━━━━━━━━━━━━━━━━━\u001b[0m\u001b[37m\u001b[0m \u001b[1m3s\u001b[0m 246ms/step - accuracy: 1.0000 - loss: 0.0078 - val_accuracy: 0.9444 - val_loss: 0.2677 - learning_rate: 1.0000e-05\n",
      "Epoch 49/50\n",
      "\u001b[1m14/14\u001b[0m \u001b[32m━━━━━━━━━━━━━━━━━━━━\u001b[0m\u001b[37m\u001b[0m \u001b[1m3s\u001b[0m 233ms/step - accuracy: 0.9951 - loss: 0.0128 - val_accuracy: 0.9444 - val_loss: 0.2684 - learning_rate: 1.0000e-05\n",
      "Epoch 50/50\n",
      "\u001b[1m14/14\u001b[0m \u001b[32m━━━━━━━━━━━━━━━━━━━━\u001b[0m\u001b[37m\u001b[0m \u001b[1m4s\u001b[0m 254ms/step - accuracy: 0.9931 - loss: 0.0161 - val_accuracy: 0.9444 - val_loss: 0.2656 - learning_rate: 1.0000e-05\n"
     ]
    },
    {
     "name": "stderr",
     "output_type": "stream",
     "text": [
      "c:\\Users\\Aryo Baskoro\\anaconda3\\Lib\\site-packages\\visualkeras\\layered.py:86: UserWarning: The legend_text_spacing_offset parameter is deprecated and will be removed in a future release.\n",
      "  warnings.warn(\"The legend_text_spacing_offset parameter is deprecated and will be removed in a future release.\")\n"
     ]
    },
    {
     "data": {
      "text/html": [
       "<pre style=\"white-space:pre;overflow-x:auto;line-height:normal;font-family:Menlo,'DejaVu Sans Mono',consolas,'Courier New',monospace\"><span style=\"font-weight: bold\">Model: \"sequential_1\"</span>\n",
       "</pre>\n"
      ],
      "text/plain": [
       "\u001b[1mModel: \"sequential_1\"\u001b[0m\n"
      ]
     },
     "metadata": {},
     "output_type": "display_data"
    },
    {
     "data": {
      "text/html": [
       "<pre style=\"white-space:pre;overflow-x:auto;line-height:normal;font-family:Menlo,'DejaVu Sans Mono',consolas,'Courier New',monospace\">┏━━━━━━━━━━━━━━━━━━━━━━━━━━━━━━━━━┳━━━━━━━━━━━━━━━━━━━━━━━━┳━━━━━━━━━━━━━━━┓\n",
       "┃<span style=\"font-weight: bold\"> Layer (type)                    </span>┃<span style=\"font-weight: bold\"> Output Shape           </span>┃<span style=\"font-weight: bold\">       Param # </span>┃\n",
       "┡━━━━━━━━━━━━━━━━━━━━━━━━━━━━━━━━━╇━━━━━━━━━━━━━━━━━━━━━━━━╇━━━━━━━━━━━━━━━┩\n",
       "│ conv2d_3 (<span style=\"color: #0087ff; text-decoration-color: #0087ff\">Conv2D</span>)               │ (<span style=\"color: #00d7ff; text-decoration-color: #00d7ff\">None</span>, <span style=\"color: #00af00; text-decoration-color: #00af00\">124</span>, <span style=\"color: #00af00; text-decoration-color: #00af00\">212</span>, <span style=\"color: #00af00; text-decoration-color: #00af00\">24</span>)   │           <span style=\"color: #00af00; text-decoration-color: #00af00\">624</span> │\n",
       "├─────────────────────────────────┼────────────────────────┼───────────────┤\n",
       "│ max_pooling2d_3 (<span style=\"color: #0087ff; text-decoration-color: #0087ff\">MaxPooling2D</span>)  │ (<span style=\"color: #00d7ff; text-decoration-color: #00d7ff\">None</span>, <span style=\"color: #00af00; text-decoration-color: #00af00\">62</span>, <span style=\"color: #00af00; text-decoration-color: #00af00\">106</span>, <span style=\"color: #00af00; text-decoration-color: #00af00\">24</span>)    │             <span style=\"color: #00af00; text-decoration-color: #00af00\">0</span> │\n",
       "├─────────────────────────────────┼────────────────────────┼───────────────┤\n",
       "│ batch_normalization_3           │ (<span style=\"color: #00d7ff; text-decoration-color: #00d7ff\">None</span>, <span style=\"color: #00af00; text-decoration-color: #00af00\">62</span>, <span style=\"color: #00af00; text-decoration-color: #00af00\">106</span>, <span style=\"color: #00af00; text-decoration-color: #00af00\">24</span>)    │            <span style=\"color: #00af00; text-decoration-color: #00af00\">96</span> │\n",
       "│ (<span style=\"color: #0087ff; text-decoration-color: #0087ff\">BatchNormalization</span>)            │                        │               │\n",
       "├─────────────────────────────────┼────────────────────────┼───────────────┤\n",
       "│ conv2d_4 (<span style=\"color: #0087ff; text-decoration-color: #0087ff\">Conv2D</span>)               │ (<span style=\"color: #00d7ff; text-decoration-color: #00d7ff\">None</span>, <span style=\"color: #00af00; text-decoration-color: #00af00\">58</span>, <span style=\"color: #00af00; text-decoration-color: #00af00\">102</span>, <span style=\"color: #00af00; text-decoration-color: #00af00\">48</span>)    │        <span style=\"color: #00af00; text-decoration-color: #00af00\">28,848</span> │\n",
       "├─────────────────────────────────┼────────────────────────┼───────────────┤\n",
       "│ max_pooling2d_4 (<span style=\"color: #0087ff; text-decoration-color: #0087ff\">MaxPooling2D</span>)  │ (<span style=\"color: #00d7ff; text-decoration-color: #00d7ff\">None</span>, <span style=\"color: #00af00; text-decoration-color: #00af00\">29</span>, <span style=\"color: #00af00; text-decoration-color: #00af00\">51</span>, <span style=\"color: #00af00; text-decoration-color: #00af00\">48</span>)     │             <span style=\"color: #00af00; text-decoration-color: #00af00\">0</span> │\n",
       "├─────────────────────────────────┼────────────────────────┼───────────────┤\n",
       "│ batch_normalization_4           │ (<span style=\"color: #00d7ff; text-decoration-color: #00d7ff\">None</span>, <span style=\"color: #00af00; text-decoration-color: #00af00\">29</span>, <span style=\"color: #00af00; text-decoration-color: #00af00\">51</span>, <span style=\"color: #00af00; text-decoration-color: #00af00\">48</span>)     │           <span style=\"color: #00af00; text-decoration-color: #00af00\">192</span> │\n",
       "│ (<span style=\"color: #0087ff; text-decoration-color: #0087ff\">BatchNormalization</span>)            │                        │               │\n",
       "├─────────────────────────────────┼────────────────────────┼───────────────┤\n",
       "│ conv2d_5 (<span style=\"color: #0087ff; text-decoration-color: #0087ff\">Conv2D</span>)               │ (<span style=\"color: #00d7ff; text-decoration-color: #00d7ff\">None</span>, <span style=\"color: #00af00; text-decoration-color: #00af00\">29</span>, <span style=\"color: #00af00; text-decoration-color: #00af00\">51</span>, <span style=\"color: #00af00; text-decoration-color: #00af00\">48</span>)     │        <span style=\"color: #00af00; text-decoration-color: #00af00\">57,648</span> │\n",
       "├─────────────────────────────────┼────────────────────────┼───────────────┤\n",
       "│ max_pooling2d_5 (<span style=\"color: #0087ff; text-decoration-color: #0087ff\">MaxPooling2D</span>)  │ (<span style=\"color: #00d7ff; text-decoration-color: #00d7ff\">None</span>, <span style=\"color: #00af00; text-decoration-color: #00af00\">15</span>, <span style=\"color: #00af00; text-decoration-color: #00af00\">26</span>, <span style=\"color: #00af00; text-decoration-color: #00af00\">48</span>)     │             <span style=\"color: #00af00; text-decoration-color: #00af00\">0</span> │\n",
       "├─────────────────────────────────┼────────────────────────┼───────────────┤\n",
       "│ batch_normalization_5           │ (<span style=\"color: #00d7ff; text-decoration-color: #00d7ff\">None</span>, <span style=\"color: #00af00; text-decoration-color: #00af00\">15</span>, <span style=\"color: #00af00; text-decoration-color: #00af00\">26</span>, <span style=\"color: #00af00; text-decoration-color: #00af00\">48</span>)     │           <span style=\"color: #00af00; text-decoration-color: #00af00\">192</span> │\n",
       "│ (<span style=\"color: #0087ff; text-decoration-color: #0087ff\">BatchNormalization</span>)            │                        │               │\n",
       "├─────────────────────────────────┼────────────────────────┼───────────────┤\n",
       "│ flatten_1 (<span style=\"color: #0087ff; text-decoration-color: #0087ff\">Flatten</span>)             │ (<span style=\"color: #00d7ff; text-decoration-color: #00d7ff\">None</span>, <span style=\"color: #00af00; text-decoration-color: #00af00\">18720</span>)          │             <span style=\"color: #00af00; text-decoration-color: #00af00\">0</span> │\n",
       "├─────────────────────────────────┼────────────────────────┼───────────────┤\n",
       "│ dense_2 (<span style=\"color: #0087ff; text-decoration-color: #0087ff\">Dense</span>)                 │ (<span style=\"color: #00d7ff; text-decoration-color: #00d7ff\">None</span>, <span style=\"color: #00af00; text-decoration-color: #00af00\">64</span>)             │     <span style=\"color: #00af00; text-decoration-color: #00af00\">1,198,144</span> │\n",
       "├─────────────────────────────────┼────────────────────────┼───────────────┤\n",
       "│ dropout_1 (<span style=\"color: #0087ff; text-decoration-color: #0087ff\">Dropout</span>)             │ (<span style=\"color: #00d7ff; text-decoration-color: #00d7ff\">None</span>, <span style=\"color: #00af00; text-decoration-color: #00af00\">64</span>)             │             <span style=\"color: #00af00; text-decoration-color: #00af00\">0</span> │\n",
       "├─────────────────────────────────┼────────────────────────┼───────────────┤\n",
       "│ dense_3 (<span style=\"color: #0087ff; text-decoration-color: #0087ff\">Dense</span>)                 │ (<span style=\"color: #00d7ff; text-decoration-color: #00d7ff\">None</span>, <span style=\"color: #00af00; text-decoration-color: #00af00\">12</span>)             │           <span style=\"color: #00af00; text-decoration-color: #00af00\">780</span> │\n",
       "└─────────────────────────────────┴────────────────────────┴───────────────┘\n",
       "</pre>\n"
      ],
      "text/plain": [
       "┏━━━━━━━━━━━━━━━━━━━━━━━━━━━━━━━━━┳━━━━━━━━━━━━━━━━━━━━━━━━┳━━━━━━━━━━━━━━━┓\n",
       "┃\u001b[1m \u001b[0m\u001b[1mLayer (type)                   \u001b[0m\u001b[1m \u001b[0m┃\u001b[1m \u001b[0m\u001b[1mOutput Shape          \u001b[0m\u001b[1m \u001b[0m┃\u001b[1m \u001b[0m\u001b[1m      Param #\u001b[0m\u001b[1m \u001b[0m┃\n",
       "┡━━━━━━━━━━━━━━━━━━━━━━━━━━━━━━━━━╇━━━━━━━━━━━━━━━━━━━━━━━━╇━━━━━━━━━━━━━━━┩\n",
       "│ conv2d_3 (\u001b[38;5;33mConv2D\u001b[0m)               │ (\u001b[38;5;45mNone\u001b[0m, \u001b[38;5;34m124\u001b[0m, \u001b[38;5;34m212\u001b[0m, \u001b[38;5;34m24\u001b[0m)   │           \u001b[38;5;34m624\u001b[0m │\n",
       "├─────────────────────────────────┼────────────────────────┼───────────────┤\n",
       "│ max_pooling2d_3 (\u001b[38;5;33mMaxPooling2D\u001b[0m)  │ (\u001b[38;5;45mNone\u001b[0m, \u001b[38;5;34m62\u001b[0m, \u001b[38;5;34m106\u001b[0m, \u001b[38;5;34m24\u001b[0m)    │             \u001b[38;5;34m0\u001b[0m │\n",
       "├─────────────────────────────────┼────────────────────────┼───────────────┤\n",
       "│ batch_normalization_3           │ (\u001b[38;5;45mNone\u001b[0m, \u001b[38;5;34m62\u001b[0m, \u001b[38;5;34m106\u001b[0m, \u001b[38;5;34m24\u001b[0m)    │            \u001b[38;5;34m96\u001b[0m │\n",
       "│ (\u001b[38;5;33mBatchNormalization\u001b[0m)            │                        │               │\n",
       "├─────────────────────────────────┼────────────────────────┼───────────────┤\n",
       "│ conv2d_4 (\u001b[38;5;33mConv2D\u001b[0m)               │ (\u001b[38;5;45mNone\u001b[0m, \u001b[38;5;34m58\u001b[0m, \u001b[38;5;34m102\u001b[0m, \u001b[38;5;34m48\u001b[0m)    │        \u001b[38;5;34m28,848\u001b[0m │\n",
       "├─────────────────────────────────┼────────────────────────┼───────────────┤\n",
       "│ max_pooling2d_4 (\u001b[38;5;33mMaxPooling2D\u001b[0m)  │ (\u001b[38;5;45mNone\u001b[0m, \u001b[38;5;34m29\u001b[0m, \u001b[38;5;34m51\u001b[0m, \u001b[38;5;34m48\u001b[0m)     │             \u001b[38;5;34m0\u001b[0m │\n",
       "├─────────────────────────────────┼────────────────────────┼───────────────┤\n",
       "│ batch_normalization_4           │ (\u001b[38;5;45mNone\u001b[0m, \u001b[38;5;34m29\u001b[0m, \u001b[38;5;34m51\u001b[0m, \u001b[38;5;34m48\u001b[0m)     │           \u001b[38;5;34m192\u001b[0m │\n",
       "│ (\u001b[38;5;33mBatchNormalization\u001b[0m)            │                        │               │\n",
       "├─────────────────────────────────┼────────────────────────┼───────────────┤\n",
       "│ conv2d_5 (\u001b[38;5;33mConv2D\u001b[0m)               │ (\u001b[38;5;45mNone\u001b[0m, \u001b[38;5;34m29\u001b[0m, \u001b[38;5;34m51\u001b[0m, \u001b[38;5;34m48\u001b[0m)     │        \u001b[38;5;34m57,648\u001b[0m │\n",
       "├─────────────────────────────────┼────────────────────────┼───────────────┤\n",
       "│ max_pooling2d_5 (\u001b[38;5;33mMaxPooling2D\u001b[0m)  │ (\u001b[38;5;45mNone\u001b[0m, \u001b[38;5;34m15\u001b[0m, \u001b[38;5;34m26\u001b[0m, \u001b[38;5;34m48\u001b[0m)     │             \u001b[38;5;34m0\u001b[0m │\n",
       "├─────────────────────────────────┼────────────────────────┼───────────────┤\n",
       "│ batch_normalization_5           │ (\u001b[38;5;45mNone\u001b[0m, \u001b[38;5;34m15\u001b[0m, \u001b[38;5;34m26\u001b[0m, \u001b[38;5;34m48\u001b[0m)     │           \u001b[38;5;34m192\u001b[0m │\n",
       "│ (\u001b[38;5;33mBatchNormalization\u001b[0m)            │                        │               │\n",
       "├─────────────────────────────────┼────────────────────────┼───────────────┤\n",
       "│ flatten_1 (\u001b[38;5;33mFlatten\u001b[0m)             │ (\u001b[38;5;45mNone\u001b[0m, \u001b[38;5;34m18720\u001b[0m)          │             \u001b[38;5;34m0\u001b[0m │\n",
       "├─────────────────────────────────┼────────────────────────┼───────────────┤\n",
       "│ dense_2 (\u001b[38;5;33mDense\u001b[0m)                 │ (\u001b[38;5;45mNone\u001b[0m, \u001b[38;5;34m64\u001b[0m)             │     \u001b[38;5;34m1,198,144\u001b[0m │\n",
       "├─────────────────────────────────┼────────────────────────┼───────────────┤\n",
       "│ dropout_1 (\u001b[38;5;33mDropout\u001b[0m)             │ (\u001b[38;5;45mNone\u001b[0m, \u001b[38;5;34m64\u001b[0m)             │             \u001b[38;5;34m0\u001b[0m │\n",
       "├─────────────────────────────────┼────────────────────────┼───────────────┤\n",
       "│ dense_3 (\u001b[38;5;33mDense\u001b[0m)                 │ (\u001b[38;5;45mNone\u001b[0m, \u001b[38;5;34m12\u001b[0m)             │           \u001b[38;5;34m780\u001b[0m │\n",
       "└─────────────────────────────────┴────────────────────────┴───────────────┘\n"
      ]
     },
     "metadata": {},
     "output_type": "display_data"
    },
    {
     "data": {
      "text/html": [
       "<pre style=\"white-space:pre;overflow-x:auto;line-height:normal;font-family:Menlo,'DejaVu Sans Mono',consolas,'Courier New',monospace\"><span style=\"font-weight: bold\"> Total params: </span><span style=\"color: #00af00; text-decoration-color: #00af00\">3,859,094</span> (14.72 MB)\n",
       "</pre>\n"
      ],
      "text/plain": [
       "\u001b[1m Total params: \u001b[0m\u001b[38;5;34m3,859,094\u001b[0m (14.72 MB)\n"
      ]
     },
     "metadata": {},
     "output_type": "display_data"
    },
    {
     "data": {
      "text/html": [
       "<pre style=\"white-space:pre;overflow-x:auto;line-height:normal;font-family:Menlo,'DejaVu Sans Mono',consolas,'Courier New',monospace\"><span style=\"font-weight: bold\"> Trainable params: </span><span style=\"color: #00af00; text-decoration-color: #00af00\">1,286,284</span> (4.91 MB)\n",
       "</pre>\n"
      ],
      "text/plain": [
       "\u001b[1m Trainable params: \u001b[0m\u001b[38;5;34m1,286,284\u001b[0m (4.91 MB)\n"
      ]
     },
     "metadata": {},
     "output_type": "display_data"
    },
    {
     "data": {
      "text/html": [
       "<pre style=\"white-space:pre;overflow-x:auto;line-height:normal;font-family:Menlo,'DejaVu Sans Mono',consolas,'Courier New',monospace\"><span style=\"font-weight: bold\"> Non-trainable params: </span><span style=\"color: #00af00; text-decoration-color: #00af00\">240</span> (960.00 B)\n",
       "</pre>\n"
      ],
      "text/plain": [
       "\u001b[1m Non-trainable params: \u001b[0m\u001b[38;5;34m240\u001b[0m (960.00 B)\n"
      ]
     },
     "metadata": {},
     "output_type": "display_data"
    },
    {
     "data": {
      "text/html": [
       "<pre style=\"white-space:pre;overflow-x:auto;line-height:normal;font-family:Menlo,'DejaVu Sans Mono',consolas,'Courier New',monospace\"><span style=\"font-weight: bold\"> Optimizer params: </span><span style=\"color: #00af00; text-decoration-color: #00af00\">2,572,570</span> (9.81 MB)\n",
       "</pre>\n"
      ],
      "text/plain": [
       "\u001b[1m Optimizer params: \u001b[0m\u001b[38;5;34m2,572,570\u001b[0m (9.81 MB)\n"
      ]
     },
     "metadata": {},
     "output_type": "display_data"
    }
   ],
   "source": [
    "model.compile(optimizer=keras.optimizers.Adam(learning_rate=0.0001),\n",
    "              loss=\"sparse_categorical_crossentropy\", metrics=[\"accuracy\"])\n",
    "\n",
    "reduce_lr = ReduceLROnPlateau(monitor='val_loss', factor=0.1, patience=10, min_lr=0.00001, verbose=1)\n",
    "early_stopping = EarlyStopping(monitor='val_loss', patience=20, verbose=1)\n",
    "\n",
    "history = model.fit(\n",
    "    x_train, y_train,\n",
    "    validation_data=(x_val, y_val),\n",
    "    epochs=50,\n",
    "    batch_size=32,\n",
    "    callbacks=[reduce_lr, early_stopping],\n",
    "    verbose=1\n",
    ")\n",
    "\n",
    "font = ImageFont.truetype(\"arial.ttf\", 12)\n",
    "img = visualkeras.layered_view(model, legend=True, font=font)  \n",
    "img.save(\"model_visualization.png\")\n",
    "img.show()\n",
    "model.summary()"
   ]
  },
  {
   "cell_type": "code",
   "execution_count": 30,
   "metadata": {},
   "outputs": [
    {
     "name": "stdout",
     "output_type": "stream",
     "text": [
      "\u001b[1m5/5\u001b[0m \u001b[32m━━━━━━━━━━━━━━━━━━━━\u001b[0m\u001b[37m\u001b[0m \u001b[1m0s\u001b[0m 56ms/step - accuracy: 0.9453 - loss: 0.3410\n",
      "Test Loss: 0.347065269947052\n",
      "Test Accuracy: 0.9375\n"
     ]
    }
   ],
   "source": [
    "score = model.evaluate(x_test, y_test)\n",
    "print(f\"Test Loss: {score[0]}\")\n",
    "print(f\"Test Accuracy: {score[1]}\")"
   ]
  },
  {
   "cell_type": "code",
   "execution_count": 31,
   "metadata": {},
   "outputs": [
    {
     "name": "stdout",
     "output_type": "stream",
     "text": [
      "\u001b[1m5/5\u001b[0m \u001b[32m━━━━━━━━━━━━━━━━━━━━\u001b[0m\u001b[37m\u001b[0m \u001b[1m0s\u001b[0m 53ms/step\n",
      "Predicted classes: [ 1  5  8  0  5  6  5 10  5 11  6  6  6  5  3  9  1  2  2  8 10  0  1  3\n",
      "  6  0  2 10  7  8 11  7  9  7 11  5  2  8  5  1  4  4  4  3  6  0  7  7\n",
      "  2 10 10  4  0  3  8 11  3  1  5 10  2  4  5  3  6  4  3  2  3  5 11 11\n",
      "  8  3  9  1  9  2  5  2  3  9  6 10  1  3  4  4  2  1  7 10  6 10  5  4\n",
      "  0  9  3  0  3  8  6  7  8  6  3 11  8  0  9  5  1  0  1  7  6  8  9  3\n",
      "  0  3  9  5  9  2  6  2  5  8 10  2  2  6 11  3  0  0  1  4  2  1  3  8]\n",
      "True classes: [ 1  5  8  0  5  6  5 10  5 11  0  6  6  5  3  9  1  2  2  8 10  0  1  3\n",
      "  6  0  2 10  7  8 11  7  9  7 11  5  2  8  5  1  4  4  4  3  6  0  7  7\n",
      "  6 10 10  4  0  3  8 11  3  1  5 10  6  4  5  3  1  4  3  2  3  5 11 11\n",
      "  8  3  9  1  9  9  5  2  3  9  6 10  1  3  4  4  9  1  7 10  6 10  5  4\n",
      "  0  9  3  0  3  8  6  7  8  6  3 11  8  0  9  5  1  0  1  7  6  8  9  3\n",
      "  0  3  9  5  9  2  1  1  0  8 10  2  2  6 11  3  0  0  1  4  2  1  3  8]\n",
      "Classification Report:\n",
      "                                      precision    recall  f1-score   support\n",
      "\n",
      "Ardhito Pramono_Dancing In September       1.00      0.86      0.92        14\n",
      "      Ed Sheeran_Supermarket Flowers       1.00      0.80      0.89        15\n",
      "               GANGGA_Whiskey Bottle       0.67      1.00      0.80        10\n",
      "       Giveon_Heartbreak Anniversary       1.00      1.00      1.00        18\n",
      "        Gracie Abrams_That’s So True       1.00      1.00      1.00        10\n",
      "                    Keshi_UNDERSTAND       0.93      1.00      0.97        14\n",
      "                    Labrinth_Jealous       0.79      0.85      0.81        13\n",
      "          Lady Gaga_Die With A Smile       1.00      1.00      1.00         8\n",
      "               Lauv_First Heartbreak       1.00      1.00      1.00        12\n",
      "           Lukas Graham_Love Someone       1.00      0.83      0.91        12\n",
      "              Rich Brian_100 Degrees       1.00      1.00      1.00        10\n",
      "      Ricky Montgomery_This December       1.00      1.00      1.00         8\n",
      "\n",
      "                            accuracy                           0.94       144\n",
      "                           macro avg       0.95      0.94      0.94       144\n",
      "                        weighted avg       0.95      0.94      0.94       144\n",
      "\n"
     ]
    }
   ],
   "source": [
    "y_pred = model.predict(x_test)\n",
    "y_pred_classes = np.argmax(y_pred, axis=1)\n",
    "print(\"Predicted classes:\", y_pred_classes)\n",
    "print(\"True classes:\", y_test)\n",
    "\n",
    "print(\"Classification Report:\")\n",
    "print(classification_report(y_test, y_pred_classes, target_names=label_encoder.classes_))"
   ]
  },
  {
   "cell_type": "code",
   "execution_count": 32,
   "metadata": {
    "colab": {
     "base_uri": "https://localhost:8080/"
    },
    "id": "FJZ-gLRC-PhS",
    "outputId": "c0ed6530-2b72-4af8-b0a6-3810b614418e"
   },
   "outputs": [
    {
     "data": {
      "image/png": "[encoded data removed]",
      "text/plain": [
       "<Figure size 1000x500 with 2 Axes>"
      ]
     },
     "metadata": {},
     "output_type": "display_data"
    }
   ],
   "source": [
    "acc = history.history['accuracy']  \n",
    "val_acc = history.history['val_accuracy'] \n",
    "\n",
    "loss = history.history['loss']\n",
    "val_loss = history.history['val_loss']\n",
    "\n",
    "plt.figure(figsize=(10, 5))\n",
    "plt.suptitle(\"Loss and Accuracy - Spectrogram Tune Guessr\", fontsize=14, fontweight='bold')  \n",
    "\n",
    "plt.subplot(1, 2, 1)\n",
    "plt.plot(acc, label=\"Training Accuracy\")\n",
    "plt.plot(val_acc, label=\"Test Accuracy\")\n",
    "plt.legend()\n",
    "plt.title('Accuracy')\n",
    "plt.xlabel('Epoch')\n",
    "plt.ylabel('Accuracy')\n",
    "plt.ylim(bottom=0)\n",
    "\n",
    "plt.subplot(1, 2, 2)\n",
    "plt.plot(loss, label=\"Training Loss\")\n",
    "plt.plot(val_loss, label=\"Test Loss\")\n",
    "plt.legend()\n",
    "plt.title('Loss')\n",
    "plt.xlabel('Epoch')\n",
    "plt.ylabel('Loss')\n",
    "plt.ylim(bottom=0)\n",
    "plt.savefig('spectrogram_loss_accuracy.png')\n",
    "plt.show()"
   ]
  },
  {
   "cell_type": "code",
   "execution_count": 33,
   "metadata": {},
   "outputs": [
    {
     "name": "stdout",
     "output_type": "stream",
     "text": [
      "\u001b[1m1/1\u001b[0m \u001b[32m━━━━━━━━━━━━━━━━━━━━\u001b[0m\u001b[37m\u001b[0m \u001b[1m0s\u001b[0m 57ms/step\n",
      "Predicted Artist: Ardhito Pramono\n",
      "Predicted Song: Dancing In September\n"
     ]
    }
   ],
   "source": [
    "def predict_song_spectrogram(file_path):\n",
    "    signal, sr = librosa.load(file_path, sr=SAMPLE_RATE)\n",
    "    segment_samples = int(SAMPLE_RATE * 5)\n",
    "    num_segments = math.ceil(len(signal) / segment_samples)\n",
    "\n",
    "    predictions = []\n",
    "\n",
    "    for s in range(num_segments):\n",
    "        start = segment_samples * s\n",
    "        end = start + segment_samples\n",
    "        segment = signal[start:end]\n",
    "\n",
    "        if len(segment) < segment_samples:\n",
    "            segment = np.pad(segment, (0, segment_samples - len(segment)), mode='constant')\n",
    "\n",
    "        log_spec = extract_spectrogram(segment)\n",
    "        if log_spec is not None:\n",
    "            max_len = model.input_shape[2]\n",
    "            padded_spec = np.pad(log_spec, ((0, 0), (0, max_len - log_spec.shape[1])), mode='constant')\n",
    "            padded_spec = padded_spec[np.newaxis, ..., np.newaxis]  # shape: (1, n_mels, time, 1)\n",
    "\n",
    "            prediction = model.predict(padded_spec)\n",
    "            predicted_label = np.argmax(prediction)\n",
    "            predictions.append(predicted_label)\n",
    "\n",
    "    most_common_label = Counter(predictions).most_common(1)[0][0]\n",
    "    predicted_song = label_encoder.inverse_transform([most_common_label])[0]\n",
    "\n",
    "    try:\n",
    "        artist, song = predicted_song.split(\"_\")\n",
    "    except ValueError:\n",
    "        artist, song = predicted_song, \"Unknown Title\"\n",
    "\n",
    "    print(f\"Predicted Artist: {artist}\")\n",
    "    print(f\"Predicted Song: {song}\")\n",
    "    return artist, song\n",
    "\n",
    "new_file_path = \"dataset_wav/Ardhito Pramono_Dancing In September/Ardhito Pramono_Dancing In September_segment_3.wav\"\n",
    "predicted_artist, predicted_song = predict_song_spectrogram(new_file_path)\n",
    "\n"
   ]
  },
  {
   "cell_type": "code",
   "execution_count": 34,
   "metadata": {},
   "outputs": [],
   "source": [
    "model.save(\"spectrogram_model.keras\")"
   ]
  }
 ],
 "metadata": {
  "colab": {
   "provenance": []
  },
  "kernelspec": {
   "display_name": "base",
   "language": "python",
   "name": "python3"
  },
  "language_info": {
   "codemirror_mode": {
    "name": "ipython",
    "version": 3
   },
   "file_extension": ".py",
   "mimetype": "text/x-python",
   "name": "python",
   "nbconvert_exporter": "python",
   "pygments_lexer": "ipython3",
   "version": "3.12.4"
  }
 },
 "nbformat": 4,
 "nbformat_minor": 0
}
